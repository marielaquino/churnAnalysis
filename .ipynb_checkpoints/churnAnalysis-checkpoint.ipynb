{
 "cells": [
  {
   "cell_type": "code",
   "execution_count": 53,
   "metadata": {},
   "outputs": [
    {
     "data": {
      "text/html": [
       "<script type=\"text/javascript\">window.PlotlyConfig = {MathJaxConfig: 'local'};</script><script type=\"text/javascript\">if (window.MathJax) {MathJax.Hub.Config({SVG: {font: \"STIX-Web\"}});}</script><script>requirejs.config({paths: { 'plotly': ['https://cdn.plot.ly/plotly-latest.min']},});if(!window._Plotly) {require(['plotly'],function(plotly) {window._Plotly=plotly;});}</script>"
      ],
      "text/vnd.plotly.v1+html": [
       "<script type=\"text/javascript\">window.PlotlyConfig = {MathJaxConfig: 'local'};</script><script type=\"text/javascript\">if (window.MathJax) {MathJax.Hub.Config({SVG: {font: \"STIX-Web\"}});}</script><script>requirejs.config({paths: { 'plotly': ['https://cdn.plot.ly/plotly-latest.min']},});if(!window._Plotly) {require(['plotly'],function(plotly) {window._Plotly=plotly;});}</script>"
      ]
     },
     "metadata": {},
     "output_type": "display_data"
    }
   ],
   "source": [
    "import numpy as np\n",
    "\n",
    "import pandas as pd\n",
    "from pandas.api.types import CategoricalDtype\n",
    "\n",
    "%matplotlib inline\n",
    "import matplotlib.pyplot as plt\n",
    "import seaborn as sns\n",
    "\n",
    "from sklearn import linear_model as lm\n",
    "from sklearn.model_selection import train_test_split\n",
    "from sklearn.model_selection import KFold\n",
    "\n",
    "import plotly.offline as py#visualization\n",
    "py.init_notebook_mode(connected=True)#visualization\n",
    "import plotly.graph_objs as go#visualization\n",
    "import plotly.tools as tls#visualization\n",
    "import plotly.figure_factory as ff#visualization\n",
    "\n",
    "# Plot settings\n",
    "plt.rcParams['figure.figsize'] = (12, 9)\n",
    "plt.rcParams['font.size'] = 12"
   ]
  },
  {
   "cell_type": "code",
   "execution_count": 6,
   "metadata": {},
   "outputs": [],
   "source": [
    "training_data = pd.read_csv(\"churn.csv\")\n",
    "test_data = pd.read_csv(\"churn.csv\")"
   ]
  },
  {
   "cell_type": "code",
   "execution_count": 7,
   "metadata": {},
   "outputs": [
    {
     "data": {
      "text/plain": [
       "array(['customerID', 'gender', 'SeniorCitizen', 'Partner', 'Dependents',\n",
       "       'tenure', 'PhoneService', 'MultipleLines', 'InternetService',\n",
       "       'OnlineSecurity', 'OnlineBackup', 'DeviceProtection',\n",
       "       'TechSupport', 'StreamingTV', 'StreamingMovies', 'Contract',\n",
       "       'PaperlessBilling', 'PaymentMethod', 'MonthlyCharges',\n",
       "       'TotalCharges', 'Churn'], dtype=object)"
      ]
     },
     "execution_count": 7,
     "metadata": {},
     "output_type": "execute_result"
    }
   ],
   "source": [
    "training_data.columns.values"
   ]
  },
  {
   "cell_type": "code",
   "execution_count": 8,
   "metadata": {},
   "outputs": [
    {
     "data": {
      "text/plain": [
       "array([[<matplotlib.axes._subplots.AxesSubplot object at 0x00000173933AC7F0>,\n",
       "        <matplotlib.axes._subplots.AxesSubplot object at 0x00000173933CFD68>],\n",
       "       [<matplotlib.axes._subplots.AxesSubplot object at 0x0000017393466C50>,\n",
       "        <matplotlib.axes._subplots.AxesSubplot object at 0x0000017393C16A90>]],\n",
       "      dtype=object)"
      ]
     },
     "execution_count": 8,
     "metadata": {},
     "output_type": "execute_result"
    },
    {
     "data": {
      "image/png": "[encoded data removed]",
      "text/plain": [
       "<Figure size 432x288 with 4 Axes>"
      ]
     },
     "metadata": {},
     "output_type": "display_data"
    }
   ],
   "source": [
    "training_data.hist()"
   ]
  },
  {
   "cell_type": "code",
   "execution_count": 10,
   "metadata": {},
   "outputs": [
    {
     "data": {
      "text/plain": [
       "No     5174\n",
       "Yes    1869\n",
       "Name: Churn, dtype: int64"
      ]
     },
     "execution_count": 10,
     "metadata": {},
     "output_type": "execute_result"
    }
   ],
   "source": [
    "training_data['Churn'].value_counts()"
   ]
  },
  {
   "cell_type": "code",
   "execution_count": 13,
   "metadata": {},
   "outputs": [
    {
     "data": {
      "text/html": [
       "<div>\n",
       "<style scoped>\n",
       "    .dataframe tbody tr th:only-of-type {\n",
       "        vertical-align: middle;\n",
       "    }\n",
       "\n",
       "    .dataframe tbody tr th {\n",
       "        vertical-align: top;\n",
       "    }\n",
       "\n",
       "    .dataframe thead th {\n",
       "        text-align: right;\n",
       "    }\n",
       "</style>\n",
       "<table border=\"1\" class=\"dataframe\">\n",
       "  <thead>\n",
       "    <tr style=\"text-align: right;\">\n",
       "      <th></th>\n",
       "      <th>customerID</th>\n",
       "      <th>gender</th>\n",
       "      <th>SeniorCitizen</th>\n",
       "      <th>Partner</th>\n",
       "      <th>Dependents</th>\n",
       "      <th>tenure</th>\n",
       "      <th>PhoneService</th>\n",
       "      <th>MultipleLines</th>\n",
       "      <th>InternetService</th>\n",
       "      <th>OnlineSecurity</th>\n",
       "      <th>...</th>\n",
       "      <th>DeviceProtection</th>\n",
       "      <th>TechSupport</th>\n",
       "      <th>StreamingTV</th>\n",
       "      <th>StreamingMovies</th>\n",
       "      <th>Contract</th>\n",
       "      <th>PaperlessBilling</th>\n",
       "      <th>PaymentMethod</th>\n",
       "      <th>MonthlyCharges</th>\n",
       "      <th>TotalCharges</th>\n",
       "      <th>Churn</th>\n",
       "    </tr>\n",
       "  </thead>\n",
       "  <tbody>\n",
       "    <tr>\n",
       "      <th>0</th>\n",
       "      <td>7590-VHVEG</td>\n",
       "      <td>Female</td>\n",
       "      <td>0</td>\n",
       "      <td>Yes</td>\n",
       "      <td>No</td>\n",
       "      <td>1</td>\n",
       "      <td>No</td>\n",
       "      <td>No phone service</td>\n",
       "      <td>DSL</td>\n",
       "      <td>No</td>\n",
       "      <td>...</td>\n",
       "      <td>No</td>\n",
       "      <td>No</td>\n",
       "      <td>No</td>\n",
       "      <td>No</td>\n",
       "      <td>Month-to-month</td>\n",
       "      <td>Yes</td>\n",
       "      <td>Electronic check</td>\n",
       "      <td>29.85</td>\n",
       "      <td>29.85</td>\n",
       "      <td>No</td>\n",
       "    </tr>\n",
       "    <tr>\n",
       "      <th>1</th>\n",
       "      <td>5575-GNVDE</td>\n",
       "      <td>Male</td>\n",
       "      <td>0</td>\n",
       "      <td>No</td>\n",
       "      <td>No</td>\n",
       "      <td>34</td>\n",
       "      <td>Yes</td>\n",
       "      <td>No</td>\n",
       "      <td>DSL</td>\n",
       "      <td>Yes</td>\n",
       "      <td>...</td>\n",
       "      <td>Yes</td>\n",
       "      <td>No</td>\n",
       "      <td>No</td>\n",
       "      <td>No</td>\n",
       "      <td>One year</td>\n",
       "      <td>No</td>\n",
       "      <td>Mailed check</td>\n",
       "      <td>56.95</td>\n",
       "      <td>1889.5</td>\n",
       "      <td>No</td>\n",
       "    </tr>\n",
       "    <tr>\n",
       "      <th>2</th>\n",
       "      <td>3668-QPYBK</td>\n",
       "      <td>Male</td>\n",
       "      <td>0</td>\n",
       "      <td>No</td>\n",
       "      <td>No</td>\n",
       "      <td>2</td>\n",
       "      <td>Yes</td>\n",
       "      <td>No</td>\n",
       "      <td>DSL</td>\n",
       "      <td>Yes</td>\n",
       "      <td>...</td>\n",
       "      <td>No</td>\n",
       "      <td>No</td>\n",
       "      <td>No</td>\n",
       "      <td>No</td>\n",
       "      <td>Month-to-month</td>\n",
       "      <td>Yes</td>\n",
       "      <td>Mailed check</td>\n",
       "      <td>53.85</td>\n",
       "      <td>108.15</td>\n",
       "      <td>Yes</td>\n",
       "    </tr>\n",
       "    <tr>\n",
       "      <th>3</th>\n",
       "      <td>7795-CFOCW</td>\n",
       "      <td>Male</td>\n",
       "      <td>0</td>\n",
       "      <td>No</td>\n",
       "      <td>No</td>\n",
       "      <td>45</td>\n",
       "      <td>No</td>\n",
       "      <td>No phone service</td>\n",
       "      <td>DSL</td>\n",
       "      <td>Yes</td>\n",
       "      <td>...</td>\n",
       "      <td>Yes</td>\n",
       "      <td>Yes</td>\n",
       "      <td>No</td>\n",
       "      <td>No</td>\n",
       "      <td>One year</td>\n",
       "      <td>No</td>\n",
       "      <td>Bank transfer (automatic)</td>\n",
       "      <td>42.30</td>\n",
       "      <td>1840.75</td>\n",
       "      <td>No</td>\n",
       "    </tr>\n",
       "    <tr>\n",
       "      <th>4</th>\n",
       "      <td>9237-HQITU</td>\n",
       "      <td>Female</td>\n",
       "      <td>0</td>\n",
       "      <td>No</td>\n",
       "      <td>No</td>\n",
       "      <td>2</td>\n",
       "      <td>Yes</td>\n",
       "      <td>No</td>\n",
       "      <td>Fiber optic</td>\n",
       "      <td>No</td>\n",
       "      <td>...</td>\n",
       "      <td>No</td>\n",
       "      <td>No</td>\n",
       "      <td>No</td>\n",
       "      <td>No</td>\n",
       "      <td>Month-to-month</td>\n",
       "      <td>Yes</td>\n",
       "      <td>Electronic check</td>\n",
       "      <td>70.70</td>\n",
       "      <td>151.65</td>\n",
       "      <td>Yes</td>\n",
       "    </tr>\n",
       "  </tbody>\n",
       "</table>\n",
       "<p>5 rows × 21 columns</p>\n",
       "</div>"
      ],
      "text/plain": [
       "   customerID  gender  SeniorCitizen Partner Dependents  tenure PhoneService  \\\n",
       "0  7590-VHVEG  Female              0     Yes         No       1           No   \n",
       "1  5575-GNVDE    Male              0      No         No      34          Yes   \n",
       "2  3668-QPYBK    Male              0      No         No       2          Yes   \n",
       "3  7795-CFOCW    Male              0      No         No      45           No   \n",
       "4  9237-HQITU  Female              0      No         No       2          Yes   \n",
       "\n",
       "      MultipleLines InternetService OnlineSecurity  ...  DeviceProtection  \\\n",
       "0  No phone service             DSL             No  ...                No   \n",
       "1                No             DSL            Yes  ...               Yes   \n",
       "2                No             DSL            Yes  ...                No   \n",
       "3  No phone service             DSL            Yes  ...               Yes   \n",
       "4                No     Fiber optic             No  ...                No   \n",
       "\n",
       "  TechSupport StreamingTV StreamingMovies        Contract PaperlessBilling  \\\n",
       "0          No          No              No  Month-to-month              Yes   \n",
       "1          No          No              No        One year               No   \n",
       "2          No          No              No  Month-to-month              Yes   \n",
       "3         Yes          No              No        One year               No   \n",
       "4          No          No              No  Month-to-month              Yes   \n",
       "\n",
       "               PaymentMethod MonthlyCharges  TotalCharges Churn  \n",
       "0           Electronic check          29.85         29.85    No  \n",
       "1               Mailed check          56.95        1889.5    No  \n",
       "2               Mailed check          53.85        108.15   Yes  \n",
       "3  Bank transfer (automatic)          42.30       1840.75    No  \n",
       "4           Electronic check          70.70        151.65   Yes  \n",
       "\n",
       "[5 rows x 21 columns]"
      ]
     },
     "execution_count": 13,
     "metadata": {},
     "output_type": "execute_result"
    }
   ],
   "source": [
    "training_data.head()"
   ]
  },
  {
   "cell_type": "code",
   "execution_count": 14,
   "metadata": {},
   "outputs": [
    {
     "name": "stdout",
     "output_type": "stream",
     "text": [
      "Rows     :  7043\n",
      "Columns  :  21\n",
      "\n",
      "Features : \n",
      " ['customerID', 'gender', 'SeniorCitizen', 'Partner', 'Dependents', 'tenure', 'PhoneService', 'MultipleLines', 'InternetService', 'OnlineSecurity', 'OnlineBackup', 'DeviceProtection', 'TechSupport', 'StreamingTV', 'StreamingMovies', 'Contract', 'PaperlessBilling', 'PaymentMethod', 'MonthlyCharges', 'TotalCharges', 'Churn']\n",
      "\n",
      "Missing values :   0\n",
      "\n",
      "Unique values :  \n",
      " customerID          7043\n",
      "gender                 2\n",
      "SeniorCitizen          2\n",
      "Partner                2\n",
      "Dependents             2\n",
      "tenure                73\n",
      "PhoneService           2\n",
      "MultipleLines          3\n",
      "InternetService        3\n",
      "OnlineSecurity         3\n",
      "OnlineBackup           3\n",
      "DeviceProtection       3\n",
      "TechSupport            3\n",
      "StreamingTV            3\n",
      "StreamingMovies        3\n",
      "Contract               3\n",
      "PaperlessBilling       2\n",
      "PaymentMethod          4\n",
      "MonthlyCharges      1585\n",
      "TotalCharges        6531\n",
      "Churn                  2\n",
      "dtype: int64\n"
     ]
    }
   ],
   "source": [
    "print (\"Rows     : \" ,training_data.shape[0])\n",
    "print (\"Columns  : \" ,training_data.shape[1])\n",
    "print (\"\\nFeatures : \\n\" ,training_data.columns.tolist())\n",
    "print (\"\\nMissing values :  \", training_data.isnull().sum().values.sum())\n",
    "print (\"\\nUnique values :  \\n\",training_data.nunique())"
   ]
  },
  {
   "cell_type": "code",
   "execution_count": 41,
   "metadata": {},
   "outputs": [],
   "source": [
    "# SeniorCitizen - numerical\n",
    "training_data['SeniorCitizen'] = training_data['SeniorCitizen'].replace({1: \"Yes\", 0:\"No\"})\n",
    "\n",
    "# 'No internet service' --> 'No'\n",
    "replace_cols = [ 'OnlineSecurity', 'OnlineBackup', 'DeviceProtection',\n",
    "                'TechSupport','StreamingTV', 'StreamingMovies']\n",
    "for i in replace_cols : \n",
    "    training_data[i]  = training_data[i].replace({'No internet service' : 'No'})\n",
    "\n",
    "#Separating churn and non churn customers\n",
    "churn     = training_data[training_data[\"Churn\"] == \"Yes\"]\n",
    "not_churn = training_data[training_data[\"Churn\"] == \"No\"]\n",
    "\n",
    "# Numerical vs Categorical Data\n",
    "Id_col     = ['customerID']\n",
    "target_col = [\"Churn\"]\n",
    "cat_cols   = training_data.nunique()[training_data.nunique() < 6].keys().tolist()\n",
    "cat_cols   = [x for x in cat_cols if x not in target_col]\n",
    "num_cols   = [x for x in training_data.columns if x not in cat_cols + target_col + Id_col]"
   ]
  },
  {
   "cell_type": "code",
   "execution_count": 40,
   "metadata": {},
   "outputs": [],
   "source": [
    "#training_data.loc[training_data['OnlineSecurity'] == 'No internet service']\n",
    "#training_data['TotalCharges'] = training_data['TotalCharges'].astype(float)"
   ]
  },
  {
   "cell_type": "code",
   "execution_count": 56,
   "metadata": {},
   "outputs": [
    {
     "data": {
      "application/vnd.plotly.v1+json": {
       "data": [
        {
         "hole": 0.5,
         "labels": [
          "No",
          "Yes"
         ],
         "marker": {
          "colors": [
           "royalblue",
           "lime"
          ],
          "line": {
           "color": "white",
           "width": 1.3
          }
         },
         "rotation": 90,
         "type": "pie",
         "uid": "f45e636a-b34c-4c80-a0ff-ea7d41d2da75",
         "values": [
          5174,
          1869
         ]
        }
       ],
       "layout": {
        "paper_bgcolor": "rgb(243,243,243)",
        "plot_bgcolor": "rgb(243,243,243)",
        "title": "Customer attrition in data"
       }
      },
      "text/html": [
       "<div id=\"3a8e6d74-d8c4-4e0b-ba1b-70225d110051\" style=\"height: 525px; width: 100%;\" class=\"plotly-graph-div\"></div><script type=\"text/javascript\">require([\"plotly\"], function(Plotly) { window.PLOTLYENV=window.PLOTLYENV || {};window.PLOTLYENV.BASE_URL=\"https://plot.ly\";Plotly.newPlot(\"3a8e6d74-d8c4-4e0b-ba1b-70225d110051\", [{\"hole\": 0.5, \"labels\": [\"No\", \"Yes\"], \"marker\": {\"colors\": [\"royalblue\", \"lime\"], \"line\": {\"color\": \"white\", \"width\": 1.3}}, \"rotation\": 90, \"values\": [5174, 1869], \"type\": \"pie\", \"uid\": \"f45e636a-b34c-4c80-a0ff-ea7d41d2da75\"}], {\"paper_bgcolor\": \"rgb(243,243,243)\", \"plot_bgcolor\": \"rgb(243,243,243)\", \"title\": \"Customer attrition in data\"}, {\"showLink\": true, \"linkText\": \"Export to plot.ly\"})});</script><script type=\"text/javascript\">window.addEventListener(\"resize\", function(){window._Plotly.Plots.resize(document.getElementById(\"3a8e6d74-d8c4-4e0b-ba1b-70225d110051\"));});</script>"
      ],
      "text/vnd.plotly.v1+html": [
       "<div id=\"3a8e6d74-d8c4-4e0b-ba1b-70225d110051\" style=\"height: 525px; width: 100%;\" class=\"plotly-graph-div\"></div><script type=\"text/javascript\">require([\"plotly\"], function(Plotly) { window.PLOTLYENV=window.PLOTLYENV || {};window.PLOTLYENV.BASE_URL=\"https://plot.ly\";Plotly.newPlot(\"3a8e6d74-d8c4-4e0b-ba1b-70225d110051\", [{\"hole\": 0.5, \"labels\": [\"No\", \"Yes\"], \"marker\": {\"colors\": [\"royalblue\", \"lime\"], \"line\": {\"color\": \"white\", \"width\": 1.3}}, \"rotation\": 90, \"values\": [5174, 1869], \"type\": \"pie\", \"uid\": \"f45e636a-b34c-4c80-a0ff-ea7d41d2da75\"}], {\"paper_bgcolor\": \"rgb(243,243,243)\", \"plot_bgcolor\": \"rgb(243,243,243)\", \"title\": \"Customer attrition in data\"}, {\"showLink\": true, \"linkText\": \"Export to plot.ly\"})});</script><script type=\"text/javascript\">window.addEventListener(\"resize\", function(){window._Plotly.Plots.resize(document.getElementById(\"3a8e6d74-d8c4-4e0b-ba1b-70225d110051\"));});</script>"
      ]
     },
     "metadata": {},
     "output_type": "display_data"
    }
   ],
   "source": [
    "labels = training_data['Churn'].value_counts().keys().tolist()\n",
    "values = training_data['Churn'].value_counts().values.tolist()\n",
    "\n",
    "#plt.pie(values, labels=labels, colors = ['lightcoral', 'lightskyblue'],\n",
    "       #autopct='%1.1f%%', startangle=140)\n",
    "trace = go.Pie(labels = labels,\n",
    "               values = values, \n",
    "               marker = dict(colors = ['royalblue' , 'lime'],\n",
    "                             line = dict(color='white',\n",
    "                                        width=1.3)\n",
    "                           ),\n",
    "              rotation = 90,\n",
    "              hole = .5)\n",
    "\n",
    "layout = go.Layout(dict(title = 'Customer attrition in data',\n",
    "                       plot_bgcolor = \"rgb(243,243,243)\",\n",
    "                       paper_bgcolor = \"rgb(243,243,243)\",\n",
    "                       )\n",
    "                  )\n",
    "data = [trace]\n",
    "fig = go.Figure(data=data, layout=layout)\n",
    "py.iplot(fig)"
   ]
  },
  {
   "cell_type": "code",
   "execution_count": 62,
   "metadata": {},
   "outputs": [
    {
     "data": {
      "application/vnd.plotly.v1+json": {
       "data": [
        {
         "domain": {
          "x": [
           0,
           0.48
          ]
         },
         "hole": 0.6,
         "labels": [
          "Female",
          "Male"
         ],
         "name": "Churn Customers",
         "type": "pie",
         "uid": "cca30bd5-d99f-4d95-9a74-353cf44dd7fe",
         "values": [
          939,
          930
         ]
        },
        {
         "domain": {
          "x": [
           0.52,
           1
          ]
         },
         "hole": 0.6,
         "labels": [
          "Male",
          "Female"
         ],
         "name": "Non churn customers",
         "type": "pie",
         "uid": "cdf5f4dd-6a05-42fd-97b1-55e16f72e388",
         "values": [
          2625,
          2549
         ]
        }
       ],
       "layout": {
        "annotations": [
         {
          "font": {
           "size": 13
          },
          "showarrow": false,
          "text": "churn customers",
          "x": 0.15,
          "y": 0.5
         },
         {
          "font": {
           "size": 13
          },
          "showarrow": false,
          "text": "Non churn customers",
          "x": 0.88,
          "y": 0.5
         }
        ],
        "paper_bgcolor": "rgb(243,243,243)",
        "plot_bgcolor": "rgb(243,243,243)",
        "title": "gender distribution in customer attrition"
       }
      },
      "text/html": [
       "<div id=\"5075a0dd-0183-4e05-b5ee-385af9cdbbad\" style=\"height: 525px; width: 100%;\" class=\"plotly-graph-div\"></div><script type=\"text/javascript\">require([\"plotly\"], function(Plotly) { window.PLOTLYENV=window.PLOTLYENV || {};window.PLOTLYENV.BASE_URL=\"https://plot.ly\";Plotly.newPlot(\"5075a0dd-0183-4e05-b5ee-385af9cdbbad\", [{\"domain\": {\"x\": [0, 0.48]}, \"hole\": 0.6, \"labels\": [\"Female\", \"Male\"], \"name\": \"Churn Customers\", \"values\": [939, 930], \"type\": \"pie\", \"uid\": \"cca30bd5-d99f-4d95-9a74-353cf44dd7fe\"}, {\"domain\": {\"x\": [0.52, 1]}, \"hole\": 0.6, \"labels\": [\"Male\", \"Female\"], \"name\": \"Non churn customers\", \"values\": [2625, 2549], \"type\": \"pie\", \"uid\": \"cdf5f4dd-6a05-42fd-97b1-55e16f72e388\"}], {\"annotations\": [{\"font\": {\"size\": 13}, \"showarrow\": false, \"text\": \"churn customers\", \"x\": 0.15, \"y\": 0.5}, {\"font\": {\"size\": 13}, \"showarrow\": false, \"text\": \"Non churn customers\", \"x\": 0.88, \"y\": 0.5}], \"paper_bgcolor\": \"rgb(243,243,243)\", \"plot_bgcolor\": \"rgb(243,243,243)\", \"title\": \"gender distribution in customer attrition\"}, {\"showLink\": true, \"linkText\": \"Export to plot.ly\"})});</script><script type=\"text/javascript\">window.addEventListener(\"resize\", function(){window._Plotly.Plots.resize(document.getElementById(\"5075a0dd-0183-4e05-b5ee-385af9cdbbad\"));});</script>"
      ],
      "text/vnd.plotly.v1+html": [
       "<div id=\"5075a0dd-0183-4e05-b5ee-385af9cdbbad\" style=\"height: 525px; width: 100%;\" class=\"plotly-graph-div\"></div><script type=\"text/javascript\">require([\"plotly\"], function(Plotly) { window.PLOTLYENV=window.PLOTLYENV || {};window.PLOTLYENV.BASE_URL=\"https://plot.ly\";Plotly.newPlot(\"5075a0dd-0183-4e05-b5ee-385af9cdbbad\", [{\"domain\": {\"x\": [0, 0.48]}, \"hole\": 0.6, \"labels\": [\"Female\", \"Male\"], \"name\": \"Churn Customers\", \"values\": [939, 930], \"type\": \"pie\", \"uid\": \"cca30bd5-d99f-4d95-9a74-353cf44dd7fe\"}, {\"domain\": {\"x\": [0.52, 1]}, \"hole\": 0.6, \"labels\": [\"Male\", \"Female\"], \"name\": \"Non churn customers\", \"values\": [2625, 2549], \"type\": \"pie\", \"uid\": \"cdf5f4dd-6a05-42fd-97b1-55e16f72e388\"}], {\"annotations\": [{\"font\": {\"size\": 13}, \"showarrow\": false, \"text\": \"churn customers\", \"x\": 0.15, \"y\": 0.5}, {\"font\": {\"size\": 13}, \"showarrow\": false, \"text\": \"Non churn customers\", \"x\": 0.88, \"y\": 0.5}], \"paper_bgcolor\": \"rgb(243,243,243)\", \"plot_bgcolor\": \"rgb(243,243,243)\", \"title\": \"gender distribution in customer attrition\"}, {\"showLink\": true, \"linkText\": \"Export to plot.ly\"})});</script><script type=\"text/javascript\">window.addEventListener(\"resize\", function(){window._Plotly.Plots.resize(document.getElementById(\"5075a0dd-0183-4e05-b5ee-385af9cdbbad\"));});</script>"
      ]
     },
     "metadata": {},
     "output_type": "display_data"
    },
    {
     "data": {
      "application/vnd.plotly.v1+json": {
       "data": [
        {
         "domain": {
          "x": [
           0,
           0.48
          ]
         },
         "hole": 0.6,
         "labels": [
          "No",
          "Yes"
         ],
         "name": "Churn Customers",
         "type": "pie",
         "uid": "ac8e2ab6-9828-4519-8932-4cf408c581df",
         "values": [
          1393,
          476
         ]
        },
        {
         "domain": {
          "x": [
           0.52,
           1
          ]
         },
         "hole": 0.6,
         "labels": [
          "No",
          "Yes"
         ],
         "name": "Non churn customers",
         "type": "pie",
         "uid": "16765248-92ac-4c0a-8bca-110acea55c76",
         "values": [
          4508,
          666
         ]
        }
       ],
       "layout": {
        "annotations": [
         {
          "font": {
           "size": 13
          },
          "showarrow": false,
          "text": "churn customers",
          "x": 0.15,
          "y": 0.5
         },
         {
          "font": {
           "size": 13
          },
          "showarrow": false,
          "text": "Non churn customers",
          "x": 0.88,
          "y": 0.5
         }
        ],
        "paper_bgcolor": "rgb(243,243,243)",
        "plot_bgcolor": "rgb(243,243,243)",
        "title": "SeniorCitizen distribution in customer attrition"
       }
      },
      "text/html": [
       "<div id=\"9b524244-5046-4809-ba55-d20c2aaa7e1c\" style=\"height: 525px; width: 100%;\" class=\"plotly-graph-div\"></div><script type=\"text/javascript\">require([\"plotly\"], function(Plotly) { window.PLOTLYENV=window.PLOTLYENV || {};window.PLOTLYENV.BASE_URL=\"https://plot.ly\";Plotly.newPlot(\"9b524244-5046-4809-ba55-d20c2aaa7e1c\", [{\"domain\": {\"x\": [0, 0.48]}, \"hole\": 0.6, \"labels\": [\"No\", \"Yes\"], \"name\": \"Churn Customers\", \"values\": [1393, 476], \"type\": \"pie\", \"uid\": \"ac8e2ab6-9828-4519-8932-4cf408c581df\"}, {\"domain\": {\"x\": [0.52, 1]}, \"hole\": 0.6, \"labels\": [\"No\", \"Yes\"], \"name\": \"Non churn customers\", \"values\": [4508, 666], \"type\": \"pie\", \"uid\": \"16765248-92ac-4c0a-8bca-110acea55c76\"}], {\"annotations\": [{\"font\": {\"size\": 13}, \"showarrow\": false, \"text\": \"churn customers\", \"x\": 0.15, \"y\": 0.5}, {\"font\": {\"size\": 13}, \"showarrow\": false, \"text\": \"Non churn customers\", \"x\": 0.88, \"y\": 0.5}], \"paper_bgcolor\": \"rgb(243,243,243)\", \"plot_bgcolor\": \"rgb(243,243,243)\", \"title\": \"SeniorCitizen distribution in customer attrition\"}, {\"showLink\": true, \"linkText\": \"Export to plot.ly\"})});</script><script type=\"text/javascript\">window.addEventListener(\"resize\", function(){window._Plotly.Plots.resize(document.getElementById(\"9b524244-5046-4809-ba55-d20c2aaa7e1c\"));});</script>"
      ],
      "text/vnd.plotly.v1+html": [
       "<div id=\"9b524244-5046-4809-ba55-d20c2aaa7e1c\" style=\"height: 525px; width: 100%;\" class=\"plotly-graph-div\"></div><script type=\"text/javascript\">require([\"plotly\"], function(Plotly) { window.PLOTLYENV=window.PLOTLYENV || {};window.PLOTLYENV.BASE_URL=\"https://plot.ly\";Plotly.newPlot(\"9b524244-5046-4809-ba55-d20c2aaa7e1c\", [{\"domain\": {\"x\": [0, 0.48]}, \"hole\": 0.6, \"labels\": [\"No\", \"Yes\"], \"name\": \"Churn Customers\", \"values\": [1393, 476], \"type\": \"pie\", \"uid\": \"ac8e2ab6-9828-4519-8932-4cf408c581df\"}, {\"domain\": {\"x\": [0.52, 1]}, \"hole\": 0.6, \"labels\": [\"No\", \"Yes\"], \"name\": \"Non churn customers\", \"values\": [4508, 666], \"type\": \"pie\", \"uid\": \"16765248-92ac-4c0a-8bca-110acea55c76\"}], {\"annotations\": [{\"font\": {\"size\": 13}, \"showarrow\": false, \"text\": \"churn customers\", \"x\": 0.15, \"y\": 0.5}, {\"font\": {\"size\": 13}, \"showarrow\": false, \"text\": \"Non churn customers\", \"x\": 0.88, \"y\": 0.5}], \"paper_bgcolor\": \"rgb(243,243,243)\", \"plot_bgcolor\": \"rgb(243,243,243)\", \"title\": \"SeniorCitizen distribution in customer attrition\"}, {\"showLink\": true, \"linkText\": \"Export to plot.ly\"})});</script><script type=\"text/javascript\">window.addEventListener(\"resize\", function(){window._Plotly.Plots.resize(document.getElementById(\"9b524244-5046-4809-ba55-d20c2aaa7e1c\"));});</script>"
      ]
     },
     "metadata": {},
     "output_type": "display_data"
    },
    {
     "data": {
      "application/vnd.plotly.v1+json": {
       "data": [
        {
         "domain": {
          "x": [
           0,
           0.48
          ]
         },
         "hole": 0.6,
         "labels": [
          "No",
          "Yes"
         ],
         "name": "Churn Customers",
         "type": "pie",
         "uid": "6c64587e-1371-499c-971d-ff06ecb5313a",
         "values": [
          1200,
          669
         ]
        },
        {
         "domain": {
          "x": [
           0.52,
           1
          ]
         },
         "hole": 0.6,
         "labels": [
          "Yes",
          "No"
         ],
         "name": "Non churn customers",
         "type": "pie",
         "uid": "2f5875f4-a06e-4edb-b282-b91f8160e3f3",
         "values": [
          2733,
          2441
         ]
        }
       ],
       "layout": {
        "annotations": [
         {
          "font": {
           "size": 13
          },
          "showarrow": false,
          "text": "churn customers",
          "x": 0.15,
          "y": 0.5
         },
         {
          "font": {
           "size": 13
          },
          "showarrow": false,
          "text": "Non churn customers",
          "x": 0.88,
          "y": 0.5
         }
        ],
        "paper_bgcolor": "rgb(243,243,243)",
        "plot_bgcolor": "rgb(243,243,243)",
        "title": "Partner distribution in customer attrition"
       }
      },
      "text/html": [
       "<div id=\"fdce66c5-8698-456e-8e52-acc88d660614\" style=\"height: 525px; width: 100%;\" class=\"plotly-graph-div\"></div><script type=\"text/javascript\">require([\"plotly\"], function(Plotly) { window.PLOTLYENV=window.PLOTLYENV || {};window.PLOTLYENV.BASE_URL=\"https://plot.ly\";Plotly.newPlot(\"fdce66c5-8698-456e-8e52-acc88d660614\", [{\"domain\": {\"x\": [0, 0.48]}, \"hole\": 0.6, \"labels\": [\"No\", \"Yes\"], \"name\": \"Churn Customers\", \"values\": [1200, 669], \"type\": \"pie\", \"uid\": \"6c64587e-1371-499c-971d-ff06ecb5313a\"}, {\"domain\": {\"x\": [0.52, 1]}, \"hole\": 0.6, \"labels\": [\"Yes\", \"No\"], \"name\": \"Non churn customers\", \"values\": [2733, 2441], \"type\": \"pie\", \"uid\": \"2f5875f4-a06e-4edb-b282-b91f8160e3f3\"}], {\"annotations\": [{\"font\": {\"size\": 13}, \"showarrow\": false, \"text\": \"churn customers\", \"x\": 0.15, \"y\": 0.5}, {\"font\": {\"size\": 13}, \"showarrow\": false, \"text\": \"Non churn customers\", \"x\": 0.88, \"y\": 0.5}], \"paper_bgcolor\": \"rgb(243,243,243)\", \"plot_bgcolor\": \"rgb(243,243,243)\", \"title\": \"Partner distribution in customer attrition\"}, {\"showLink\": true, \"linkText\": \"Export to plot.ly\"})});</script><script type=\"text/javascript\">window.addEventListener(\"resize\", function(){window._Plotly.Plots.resize(document.getElementById(\"fdce66c5-8698-456e-8e52-acc88d660614\"));});</script>"
      ],
      "text/vnd.plotly.v1+html": [
       "<div id=\"fdce66c5-8698-456e-8e52-acc88d660614\" style=\"height: 525px; width: 100%;\" class=\"plotly-graph-div\"></div><script type=\"text/javascript\">require([\"plotly\"], function(Plotly) { window.PLOTLYENV=window.PLOTLYENV || {};window.PLOTLYENV.BASE_URL=\"https://plot.ly\";Plotly.newPlot(\"fdce66c5-8698-456e-8e52-acc88d660614\", [{\"domain\": {\"x\": [0, 0.48]}, \"hole\": 0.6, \"labels\": [\"No\", \"Yes\"], \"name\": \"Churn Customers\", \"values\": [1200, 669], \"type\": \"pie\", \"uid\": \"6c64587e-1371-499c-971d-ff06ecb5313a\"}, {\"domain\": {\"x\": [0.52, 1]}, \"hole\": 0.6, \"labels\": [\"Yes\", \"No\"], \"name\": \"Non churn customers\", \"values\": [2733, 2441], \"type\": \"pie\", \"uid\": \"2f5875f4-a06e-4edb-b282-b91f8160e3f3\"}], {\"annotations\": [{\"font\": {\"size\": 13}, \"showarrow\": false, \"text\": \"churn customers\", \"x\": 0.15, \"y\": 0.5}, {\"font\": {\"size\": 13}, \"showarrow\": false, \"text\": \"Non churn customers\", \"x\": 0.88, \"y\": 0.5}], \"paper_bgcolor\": \"rgb(243,243,243)\", \"plot_bgcolor\": \"rgb(243,243,243)\", \"title\": \"Partner distribution in customer attrition\"}, {\"showLink\": true, \"linkText\": \"Export to plot.ly\"})});</script><script type=\"text/javascript\">window.addEventListener(\"resize\", function(){window._Plotly.Plots.resize(document.getElementById(\"fdce66c5-8698-456e-8e52-acc88d660614\"));});</script>"
      ]
     },
     "metadata": {},
     "output_type": "display_data"
    },
    {
     "data": {
      "application/vnd.plotly.v1+json": {
       "data": [
        {
         "domain": {
          "x": [
           0,
           0.48
          ]
         },
         "hole": 0.6,
         "labels": [
          "No",
          "Yes"
         ],
         "name": "Churn Customers",
         "type": "pie",
         "uid": "30a812ca-e1b9-4ab1-a8c2-810dfbddbc27",
         "values": [
          1543,
          326
         ]
        },
        {
         "domain": {
          "x": [
           0.52,
           1
          ]
         },
         "hole": 0.6,
         "labels": [
          "No",
          "Yes"
         ],
         "name": "Non churn customers",
         "type": "pie",
         "uid": "e8d270b3-6569-4304-bb1b-d14333b1acde",
         "values": [
          3390,
          1784
         ]
        }
       ],
       "layout": {
        "annotations": [
         {
          "font": {
           "size": 13
          },
          "showarrow": false,
          "text": "churn customers",
          "x": 0.15,
          "y": 0.5
         },
         {
          "font": {
           "size": 13
          },
          "showarrow": false,
          "text": "Non churn customers",
          "x": 0.88,
          "y": 0.5
         }
        ],
        "paper_bgcolor": "rgb(243,243,243)",
        "plot_bgcolor": "rgb(243,243,243)",
        "title": "Dependents distribution in customer attrition"
       }
      },
      "text/html": [
       "<div id=\"82352ffa-1ea0-4b61-a6ad-10b431f9c666\" style=\"height: 525px; width: 100%;\" class=\"plotly-graph-div\"></div><script type=\"text/javascript\">require([\"plotly\"], function(Plotly) { window.PLOTLYENV=window.PLOTLYENV || {};window.PLOTLYENV.BASE_URL=\"https://plot.ly\";Plotly.newPlot(\"82352ffa-1ea0-4b61-a6ad-10b431f9c666\", [{\"domain\": {\"x\": [0, 0.48]}, \"hole\": 0.6, \"labels\": [\"No\", \"Yes\"], \"name\": \"Churn Customers\", \"values\": [1543, 326], \"type\": \"pie\", \"uid\": \"30a812ca-e1b9-4ab1-a8c2-810dfbddbc27\"}, {\"domain\": {\"x\": [0.52, 1]}, \"hole\": 0.6, \"labels\": [\"No\", \"Yes\"], \"name\": \"Non churn customers\", \"values\": [3390, 1784], \"type\": \"pie\", \"uid\": \"e8d270b3-6569-4304-bb1b-d14333b1acde\"}], {\"annotations\": [{\"font\": {\"size\": 13}, \"showarrow\": false, \"text\": \"churn customers\", \"x\": 0.15, \"y\": 0.5}, {\"font\": {\"size\": 13}, \"showarrow\": false, \"text\": \"Non churn customers\", \"x\": 0.88, \"y\": 0.5}], \"paper_bgcolor\": \"rgb(243,243,243)\", \"plot_bgcolor\": \"rgb(243,243,243)\", \"title\": \"Dependents distribution in customer attrition\"}, {\"showLink\": true, \"linkText\": \"Export to plot.ly\"})});</script><script type=\"text/javascript\">window.addEventListener(\"resize\", function(){window._Plotly.Plots.resize(document.getElementById(\"82352ffa-1ea0-4b61-a6ad-10b431f9c666\"));});</script>"
      ],
      "text/vnd.plotly.v1+html": [
       "<div id=\"82352ffa-1ea0-4b61-a6ad-10b431f9c666\" style=\"height: 525px; width: 100%;\" class=\"plotly-graph-div\"></div><script type=\"text/javascript\">require([\"plotly\"], function(Plotly) { window.PLOTLYENV=window.PLOTLYENV || {};window.PLOTLYENV.BASE_URL=\"https://plot.ly\";Plotly.newPlot(\"82352ffa-1ea0-4b61-a6ad-10b431f9c666\", [{\"domain\": {\"x\": [0, 0.48]}, \"hole\": 0.6, \"labels\": [\"No\", \"Yes\"], \"name\": \"Churn Customers\", \"values\": [1543, 326], \"type\": \"pie\", \"uid\": \"30a812ca-e1b9-4ab1-a8c2-810dfbddbc27\"}, {\"domain\": {\"x\": [0.52, 1]}, \"hole\": 0.6, \"labels\": [\"No\", \"Yes\"], \"name\": \"Non churn customers\", \"values\": [3390, 1784], \"type\": \"pie\", \"uid\": \"e8d270b3-6569-4304-bb1b-d14333b1acde\"}], {\"annotations\": [{\"font\": {\"size\": 13}, \"showarrow\": false, \"text\": \"churn customers\", \"x\": 0.15, \"y\": 0.5}, {\"font\": {\"size\": 13}, \"showarrow\": false, \"text\": \"Non churn customers\", \"x\": 0.88, \"y\": 0.5}], \"paper_bgcolor\": \"rgb(243,243,243)\", \"plot_bgcolor\": \"rgb(243,243,243)\", \"title\": \"Dependents distribution in customer attrition\"}, {\"showLink\": true, \"linkText\": \"Export to plot.ly\"})});</script><script type=\"text/javascript\">window.addEventListener(\"resize\", function(){window._Plotly.Plots.resize(document.getElementById(\"82352ffa-1ea0-4b61-a6ad-10b431f9c666\"));});</script>"
      ]
     },
     "metadata": {},
     "output_type": "display_data"
    },
    {
     "data": {
      "application/vnd.plotly.v1+json": {
       "data": [
        {
         "domain": {
          "x": [
           0,
           0.48
          ]
         },
         "hole": 0.6,
         "labels": [
          "Yes",
          "No"
         ],
         "name": "Churn Customers",
         "type": "pie",
         "uid": "b9f7c0be-484b-4725-b468-f6140a43b64d",
         "values": [
          1699,
          170
         ]
        },
        {
         "domain": {
          "x": [
           0.52,
           1
          ]
         },
         "hole": 0.6,
         "labels": [
          "Yes",
          "No"
         ],
         "name": "Non churn customers",
         "type": "pie",
         "uid": "eca2e2f1-5621-41fb-946b-4927d20005b7",
         "values": [
          4662,
          512
         ]
        }
       ],
       "layout": {
        "annotations": [
         {
          "font": {
           "size": 13
          },
          "showarrow": false,
          "text": "churn customers",
          "x": 0.15,
          "y": 0.5
         },
         {
          "font": {
           "size": 13
          },
          "showarrow": false,
          "text": "Non churn customers",
          "x": 0.88,
          "y": 0.5
         }
        ],
        "paper_bgcolor": "rgb(243,243,243)",
        "plot_bgcolor": "rgb(243,243,243)",
        "title": "PhoneService distribution in customer attrition"
       }
      },
      "text/html": [
       "<div id=\"b94000d3-cced-45f3-8238-5c545b525f17\" style=\"height: 525px; width: 100%;\" class=\"plotly-graph-div\"></div><script type=\"text/javascript\">require([\"plotly\"], function(Plotly) { window.PLOTLYENV=window.PLOTLYENV || {};window.PLOTLYENV.BASE_URL=\"https://plot.ly\";Plotly.newPlot(\"b94000d3-cced-45f3-8238-5c545b525f17\", [{\"domain\": {\"x\": [0, 0.48]}, \"hole\": 0.6, \"labels\": [\"Yes\", \"No\"], \"name\": \"Churn Customers\", \"values\": [1699, 170], \"type\": \"pie\", \"uid\": \"b9f7c0be-484b-4725-b468-f6140a43b64d\"}, {\"domain\": {\"x\": [0.52, 1]}, \"hole\": 0.6, \"labels\": [\"Yes\", \"No\"], \"name\": \"Non churn customers\", \"values\": [4662, 512], \"type\": \"pie\", \"uid\": \"eca2e2f1-5621-41fb-946b-4927d20005b7\"}], {\"annotations\": [{\"font\": {\"size\": 13}, \"showarrow\": false, \"text\": \"churn customers\", \"x\": 0.15, \"y\": 0.5}, {\"font\": {\"size\": 13}, \"showarrow\": false, \"text\": \"Non churn customers\", \"x\": 0.88, \"y\": 0.5}], \"paper_bgcolor\": \"rgb(243,243,243)\", \"plot_bgcolor\": \"rgb(243,243,243)\", \"title\": \"PhoneService distribution in customer attrition\"}, {\"showLink\": true, \"linkText\": \"Export to plot.ly\"})});</script><script type=\"text/javascript\">window.addEventListener(\"resize\", function(){window._Plotly.Plots.resize(document.getElementById(\"b94000d3-cced-45f3-8238-5c545b525f17\"));});</script>"
      ],
      "text/vnd.plotly.v1+html": [
       "<div id=\"b94000d3-cced-45f3-8238-5c545b525f17\" style=\"height: 525px; width: 100%;\" class=\"plotly-graph-div\"></div><script type=\"text/javascript\">require([\"plotly\"], function(Plotly) { window.PLOTLYENV=window.PLOTLYENV || {};window.PLOTLYENV.BASE_URL=\"https://plot.ly\";Plotly.newPlot(\"b94000d3-cced-45f3-8238-5c545b525f17\", [{\"domain\": {\"x\": [0, 0.48]}, \"hole\": 0.6, \"labels\": [\"Yes\", \"No\"], \"name\": \"Churn Customers\", \"values\": [1699, 170], \"type\": \"pie\", \"uid\": \"b9f7c0be-484b-4725-b468-f6140a43b64d\"}, {\"domain\": {\"x\": [0.52, 1]}, \"hole\": 0.6, \"labels\": [\"Yes\", \"No\"], \"name\": \"Non churn customers\", \"values\": [4662, 512], \"type\": \"pie\", \"uid\": \"eca2e2f1-5621-41fb-946b-4927d20005b7\"}], {\"annotations\": [{\"font\": {\"size\": 13}, \"showarrow\": false, \"text\": \"churn customers\", \"x\": 0.15, \"y\": 0.5}, {\"font\": {\"size\": 13}, \"showarrow\": false, \"text\": \"Non churn customers\", \"x\": 0.88, \"y\": 0.5}], \"paper_bgcolor\": \"rgb(243,243,243)\", \"plot_bgcolor\": \"rgb(243,243,243)\", \"title\": \"PhoneService distribution in customer attrition\"}, {\"showLink\": true, \"linkText\": \"Export to plot.ly\"})});</script><script type=\"text/javascript\">window.addEventListener(\"resize\", function(){window._Plotly.Plots.resize(document.getElementById(\"b94000d3-cced-45f3-8238-5c545b525f17\"));});</script>"
      ]
     },
     "metadata": {},
     "output_type": "display_data"
    },
    {
     "data": {
      "application/vnd.plotly.v1+json": {
       "data": [
        {
         "domain": {
          "x": [
           0,
           0.48
          ]
         },
         "hole": 0.6,
         "labels": [
          "Yes",
          "No",
          "No phone service"
         ],
         "name": "Churn Customers",
         "type": "pie",
         "uid": "91f59a03-25d7-45c1-a5c5-ebb77d721873",
         "values": [
          850,
          849,
          170
         ]
        },
        {
         "domain": {
          "x": [
           0.52,
           1
          ]
         },
         "hole": 0.6,
         "labels": [
          "No",
          "Yes",
          "No phone service"
         ],
         "name": "Non churn customers",
         "type": "pie",
         "uid": "eaa6d938-26f7-4296-9730-e0e77c5e97fd",
         "values": [
          2541,
          2121,
          512
         ]
        }
       ],
       "layout": {
        "annotations": [
         {
          "font": {
           "size": 13
          },
          "showarrow": false,
          "text": "churn customers",
          "x": 0.15,
          "y": 0.5
         },
         {
          "font": {
           "size": 13
          },
          "showarrow": false,
          "text": "Non churn customers",
          "x": 0.88,
          "y": 0.5
         }
        ],
        "paper_bgcolor": "rgb(243,243,243)",
        "plot_bgcolor": "rgb(243,243,243)",
        "title": "MultipleLines distribution in customer attrition"
       }
      },
      "text/html": [
       "<div id=\"6c797fb3-7785-4095-bf40-ed79daded6b7\" style=\"height: 525px; width: 100%;\" class=\"plotly-graph-div\"></div><script type=\"text/javascript\">require([\"plotly\"], function(Plotly) { window.PLOTLYENV=window.PLOTLYENV || {};window.PLOTLYENV.BASE_URL=\"https://plot.ly\";Plotly.newPlot(\"6c797fb3-7785-4095-bf40-ed79daded6b7\", [{\"domain\": {\"x\": [0, 0.48]}, \"hole\": 0.6, \"labels\": [\"Yes\", \"No\", \"No phone service\"], \"name\": \"Churn Customers\", \"values\": [850, 849, 170], \"type\": \"pie\", \"uid\": \"91f59a03-25d7-45c1-a5c5-ebb77d721873\"}, {\"domain\": {\"x\": [0.52, 1]}, \"hole\": 0.6, \"labels\": [\"No\", \"Yes\", \"No phone service\"], \"name\": \"Non churn customers\", \"values\": [2541, 2121, 512], \"type\": \"pie\", \"uid\": \"eaa6d938-26f7-4296-9730-e0e77c5e97fd\"}], {\"annotations\": [{\"font\": {\"size\": 13}, \"showarrow\": false, \"text\": \"churn customers\", \"x\": 0.15, \"y\": 0.5}, {\"font\": {\"size\": 13}, \"showarrow\": false, \"text\": \"Non churn customers\", \"x\": 0.88, \"y\": 0.5}], \"paper_bgcolor\": \"rgb(243,243,243)\", \"plot_bgcolor\": \"rgb(243,243,243)\", \"title\": \"MultipleLines distribution in customer attrition\"}, {\"showLink\": true, \"linkText\": \"Export to plot.ly\"})});</script><script type=\"text/javascript\">window.addEventListener(\"resize\", function(){window._Plotly.Plots.resize(document.getElementById(\"6c797fb3-7785-4095-bf40-ed79daded6b7\"));});</script>"
      ],
      "text/vnd.plotly.v1+html": [
       "<div id=\"6c797fb3-7785-4095-bf40-ed79daded6b7\" style=\"height: 525px; width: 100%;\" class=\"plotly-graph-div\"></div><script type=\"text/javascript\">require([\"plotly\"], function(Plotly) { window.PLOTLYENV=window.PLOTLYENV || {};window.PLOTLYENV.BASE_URL=\"https://plot.ly\";Plotly.newPlot(\"6c797fb3-7785-4095-bf40-ed79daded6b7\", [{\"domain\": {\"x\": [0, 0.48]}, \"hole\": 0.6, \"labels\": [\"Yes\", \"No\", \"No phone service\"], \"name\": \"Churn Customers\", \"values\": [850, 849, 170], \"type\": \"pie\", \"uid\": \"91f59a03-25d7-45c1-a5c5-ebb77d721873\"}, {\"domain\": {\"x\": [0.52, 1]}, \"hole\": 0.6, \"labels\": [\"No\", \"Yes\", \"No phone service\"], \"name\": \"Non churn customers\", \"values\": [2541, 2121, 512], \"type\": \"pie\", \"uid\": \"eaa6d938-26f7-4296-9730-e0e77c5e97fd\"}], {\"annotations\": [{\"font\": {\"size\": 13}, \"showarrow\": false, \"text\": \"churn customers\", \"x\": 0.15, \"y\": 0.5}, {\"font\": {\"size\": 13}, \"showarrow\": false, \"text\": \"Non churn customers\", \"x\": 0.88, \"y\": 0.5}], \"paper_bgcolor\": \"rgb(243,243,243)\", \"plot_bgcolor\": \"rgb(243,243,243)\", \"title\": \"MultipleLines distribution in customer attrition\"}, {\"showLink\": true, \"linkText\": \"Export to plot.ly\"})});</script><script type=\"text/javascript\">window.addEventListener(\"resize\", function(){window._Plotly.Plots.resize(document.getElementById(\"6c797fb3-7785-4095-bf40-ed79daded6b7\"));});</script>"
      ]
     },
     "metadata": {},
     "output_type": "display_data"
    },
    {
     "data": {
      "application/vnd.plotly.v1+json": {
       "data": [
        {
         "domain": {
          "x": [
           0,
           0.48
          ]
         },
         "hole": 0.6,
         "labels": [
          "Fiber optic",
          "DSL",
          "No"
         ],
         "name": "Churn Customers",
         "type": "pie",
         "uid": "00fc1af3-7116-49b6-89a0-f838089983c7",
         "values": [
          1297,
          459,
          113
         ]
        },
        {
         "domain": {
          "x": [
           0.52,
           1
          ]
         },
         "hole": 0.6,
         "labels": [
          "DSL",
          "Fiber optic",
          "No"
         ],
         "name": "Non churn customers",
         "type": "pie",
         "uid": "c602f8b4-1998-4fb2-979a-4412e9a3d1d5",
         "values": [
          1962,
          1799,
          1413
         ]
        }
       ],
       "layout": {
        "annotations": [
         {
          "font": {
           "size": 13
          },
          "showarrow": false,
          "text": "churn customers",
          "x": 0.15,
          "y": 0.5
         },
         {
          "font": {
           "size": 13
          },
          "showarrow": false,
          "text": "Non churn customers",
          "x": 0.88,
          "y": 0.5
         }
        ],
        "paper_bgcolor": "rgb(243,243,243)",
        "plot_bgcolor": "rgb(243,243,243)",
        "title": "InternetService distribution in customer attrition"
       }
      },
      "text/html": [
       "<div id=\"bf6facf8-5a29-4564-9739-ab28168be1d7\" style=\"height: 525px; width: 100%;\" class=\"plotly-graph-div\"></div><script type=\"text/javascript\">require([\"plotly\"], function(Plotly) { window.PLOTLYENV=window.PLOTLYENV || {};window.PLOTLYENV.BASE_URL=\"https://plot.ly\";Plotly.newPlot(\"bf6facf8-5a29-4564-9739-ab28168be1d7\", [{\"domain\": {\"x\": [0, 0.48]}, \"hole\": 0.6, \"labels\": [\"Fiber optic\", \"DSL\", \"No\"], \"name\": \"Churn Customers\", \"values\": [1297, 459, 113], \"type\": \"pie\", \"uid\": \"00fc1af3-7116-49b6-89a0-f838089983c7\"}, {\"domain\": {\"x\": [0.52, 1]}, \"hole\": 0.6, \"labels\": [\"DSL\", \"Fiber optic\", \"No\"], \"name\": \"Non churn customers\", \"values\": [1962, 1799, 1413], \"type\": \"pie\", \"uid\": \"c602f8b4-1998-4fb2-979a-4412e9a3d1d5\"}], {\"annotations\": [{\"font\": {\"size\": 13}, \"showarrow\": false, \"text\": \"churn customers\", \"x\": 0.15, \"y\": 0.5}, {\"font\": {\"size\": 13}, \"showarrow\": false, \"text\": \"Non churn customers\", \"x\": 0.88, \"y\": 0.5}], \"paper_bgcolor\": \"rgb(243,243,243)\", \"plot_bgcolor\": \"rgb(243,243,243)\", \"title\": \"InternetService distribution in customer attrition\"}, {\"showLink\": true, \"linkText\": \"Export to plot.ly\"})});</script><script type=\"text/javascript\">window.addEventListener(\"resize\", function(){window._Plotly.Plots.resize(document.getElementById(\"bf6facf8-5a29-4564-9739-ab28168be1d7\"));});</script>"
      ],
      "text/vnd.plotly.v1+html": [
       "<div id=\"bf6facf8-5a29-4564-9739-ab28168be1d7\" style=\"height: 525px; width: 100%;\" class=\"plotly-graph-div\"></div><script type=\"text/javascript\">require([\"plotly\"], function(Plotly) { window.PLOTLYENV=window.PLOTLYENV || {};window.PLOTLYENV.BASE_URL=\"https://plot.ly\";Plotly.newPlot(\"bf6facf8-5a29-4564-9739-ab28168be1d7\", [{\"domain\": {\"x\": [0, 0.48]}, \"hole\": 0.6, \"labels\": [\"Fiber optic\", \"DSL\", \"No\"], \"name\": \"Churn Customers\", \"values\": [1297, 459, 113], \"type\": \"pie\", \"uid\": \"00fc1af3-7116-49b6-89a0-f838089983c7\"}, {\"domain\": {\"x\": [0.52, 1]}, \"hole\": 0.6, \"labels\": [\"DSL\", \"Fiber optic\", \"No\"], \"name\": \"Non churn customers\", \"values\": [1962, 1799, 1413], \"type\": \"pie\", \"uid\": \"c602f8b4-1998-4fb2-979a-4412e9a3d1d5\"}], {\"annotations\": [{\"font\": {\"size\": 13}, \"showarrow\": false, \"text\": \"churn customers\", \"x\": 0.15, \"y\": 0.5}, {\"font\": {\"size\": 13}, \"showarrow\": false, \"text\": \"Non churn customers\", \"x\": 0.88, \"y\": 0.5}], \"paper_bgcolor\": \"rgb(243,243,243)\", \"plot_bgcolor\": \"rgb(243,243,243)\", \"title\": \"InternetService distribution in customer attrition\"}, {\"showLink\": true, \"linkText\": \"Export to plot.ly\"})});</script><script type=\"text/javascript\">window.addEventListener(\"resize\", function(){window._Plotly.Plots.resize(document.getElementById(\"bf6facf8-5a29-4564-9739-ab28168be1d7\"));});</script>"
      ]
     },
     "metadata": {},
     "output_type": "display_data"
    },
    {
     "data": {
      "application/vnd.plotly.v1+json": {
       "data": [
        {
         "domain": {
          "x": [
           0,
           0.48
          ]
         },
         "hole": 0.6,
         "labels": [
          "No",
          "Yes"
         ],
         "name": "Churn Customers",
         "type": "pie",
         "uid": "05fb7365-60f2-436c-ab84-a7180726b3fb",
         "values": [
          1574,
          295
         ]
        },
        {
         "domain": {
          "x": [
           0.52,
           1
          ]
         },
         "hole": 0.6,
         "labels": [
          "No",
          "Yes"
         ],
         "name": "Non churn customers",
         "type": "pie",
         "uid": "db1325b7-7e12-4f48-822a-908341afd6b6",
         "values": [
          3450,
          1724
         ]
        }
       ],
       "layout": {
        "annotations": [
         {
          "font": {
           "size": 13
          },
          "showarrow": false,
          "text": "churn customers",
          "x": 0.15,
          "y": 0.5
         },
         {
          "font": {
           "size": 13
          },
          "showarrow": false,
          "text": "Non churn customers",
          "x": 0.88,
          "y": 0.5
         }
        ],
        "paper_bgcolor": "rgb(243,243,243)",
        "plot_bgcolor": "rgb(243,243,243)",
        "title": "OnlineSecurity distribution in customer attrition"
       }
      },
      "text/html": [
       "<div id=\"2ad857ba-b696-4db1-8048-8e3f2d4ed3f6\" style=\"height: 525px; width: 100%;\" class=\"plotly-graph-div\"></div><script type=\"text/javascript\">require([\"plotly\"], function(Plotly) { window.PLOTLYENV=window.PLOTLYENV || {};window.PLOTLYENV.BASE_URL=\"https://plot.ly\";Plotly.newPlot(\"2ad857ba-b696-4db1-8048-8e3f2d4ed3f6\", [{\"domain\": {\"x\": [0, 0.48]}, \"hole\": 0.6, \"labels\": [\"No\", \"Yes\"], \"name\": \"Churn Customers\", \"values\": [1574, 295], \"type\": \"pie\", \"uid\": \"05fb7365-60f2-436c-ab84-a7180726b3fb\"}, {\"domain\": {\"x\": [0.52, 1]}, \"hole\": 0.6, \"labels\": [\"No\", \"Yes\"], \"name\": \"Non churn customers\", \"values\": [3450, 1724], \"type\": \"pie\", \"uid\": \"db1325b7-7e12-4f48-822a-908341afd6b6\"}], {\"annotations\": [{\"font\": {\"size\": 13}, \"showarrow\": false, \"text\": \"churn customers\", \"x\": 0.15, \"y\": 0.5}, {\"font\": {\"size\": 13}, \"showarrow\": false, \"text\": \"Non churn customers\", \"x\": 0.88, \"y\": 0.5}], \"paper_bgcolor\": \"rgb(243,243,243)\", \"plot_bgcolor\": \"rgb(243,243,243)\", \"title\": \"OnlineSecurity distribution in customer attrition\"}, {\"showLink\": true, \"linkText\": \"Export to plot.ly\"})});</script><script type=\"text/javascript\">window.addEventListener(\"resize\", function(){window._Plotly.Plots.resize(document.getElementById(\"2ad857ba-b696-4db1-8048-8e3f2d4ed3f6\"));});</script>"
      ],
      "text/vnd.plotly.v1+html": [
       "<div id=\"2ad857ba-b696-4db1-8048-8e3f2d4ed3f6\" style=\"height: 525px; width: 100%;\" class=\"plotly-graph-div\"></div><script type=\"text/javascript\">require([\"plotly\"], function(Plotly) { window.PLOTLYENV=window.PLOTLYENV || {};window.PLOTLYENV.BASE_URL=\"https://plot.ly\";Plotly.newPlot(\"2ad857ba-b696-4db1-8048-8e3f2d4ed3f6\", [{\"domain\": {\"x\": [0, 0.48]}, \"hole\": 0.6, \"labels\": [\"No\", \"Yes\"], \"name\": \"Churn Customers\", \"values\": [1574, 295], \"type\": \"pie\", \"uid\": \"05fb7365-60f2-436c-ab84-a7180726b3fb\"}, {\"domain\": {\"x\": [0.52, 1]}, \"hole\": 0.6, \"labels\": [\"No\", \"Yes\"], \"name\": \"Non churn customers\", \"values\": [3450, 1724], \"type\": \"pie\", \"uid\": \"db1325b7-7e12-4f48-822a-908341afd6b6\"}], {\"annotations\": [{\"font\": {\"size\": 13}, \"showarrow\": false, \"text\": \"churn customers\", \"x\": 0.15, \"y\": 0.5}, {\"font\": {\"size\": 13}, \"showarrow\": false, \"text\": \"Non churn customers\", \"x\": 0.88, \"y\": 0.5}], \"paper_bgcolor\": \"rgb(243,243,243)\", \"plot_bgcolor\": \"rgb(243,243,243)\", \"title\": \"OnlineSecurity distribution in customer attrition\"}, {\"showLink\": true, \"linkText\": \"Export to plot.ly\"})});</script><script type=\"text/javascript\">window.addEventListener(\"resize\", function(){window._Plotly.Plots.resize(document.getElementById(\"2ad857ba-b696-4db1-8048-8e3f2d4ed3f6\"));});</script>"
      ]
     },
     "metadata": {},
     "output_type": "display_data"
    },
    {
     "data": {
      "application/vnd.plotly.v1+json": {
       "data": [
        {
         "domain": {
          "x": [
           0,
           0.48
          ]
         },
         "hole": 0.6,
         "labels": [
          "No",
          "Yes"
         ],
         "name": "Churn Customers",
         "type": "pie",
         "uid": "161f31fc-999f-4191-a6ea-8d26c77e22d8",
         "values": [
          1346,
          523
         ]
        },
        {
         "domain": {
          "x": [
           0.52,
           1
          ]
         },
         "hole": 0.6,
         "labels": [
          "No",
          "Yes"
         ],
         "name": "Non churn customers",
         "type": "pie",
         "uid": "cb8dffe5-a084-48e2-94fc-f3c576e5b58f",
         "values": [
          3268,
          1906
         ]
        }
       ],
       "layout": {
        "annotations": [
         {
          "font": {
           "size": 13
          },
          "showarrow": false,
          "text": "churn customers",
          "x": 0.15,
          "y": 0.5
         },
         {
          "font": {
           "size": 13
          },
          "showarrow": false,
          "text": "Non churn customers",
          "x": 0.88,
          "y": 0.5
         }
        ],
        "paper_bgcolor": "rgb(243,243,243)",
        "plot_bgcolor": "rgb(243,243,243)",
        "title": "OnlineBackup distribution in customer attrition"
       }
      },
      "text/html": [
       "<div id=\"af4766d5-63df-468d-bb80-07ab0cef85d1\" style=\"height: 525px; width: 100%;\" class=\"plotly-graph-div\"></div><script type=\"text/javascript\">require([\"plotly\"], function(Plotly) { window.PLOTLYENV=window.PLOTLYENV || {};window.PLOTLYENV.BASE_URL=\"https://plot.ly\";Plotly.newPlot(\"af4766d5-63df-468d-bb80-07ab0cef85d1\", [{\"domain\": {\"x\": [0, 0.48]}, \"hole\": 0.6, \"labels\": [\"No\", \"Yes\"], \"name\": \"Churn Customers\", \"values\": [1346, 523], \"type\": \"pie\", \"uid\": \"161f31fc-999f-4191-a6ea-8d26c77e22d8\"}, {\"domain\": {\"x\": [0.52, 1]}, \"hole\": 0.6, \"labels\": [\"No\", \"Yes\"], \"name\": \"Non churn customers\", \"values\": [3268, 1906], \"type\": \"pie\", \"uid\": \"cb8dffe5-a084-48e2-94fc-f3c576e5b58f\"}], {\"annotations\": [{\"font\": {\"size\": 13}, \"showarrow\": false, \"text\": \"churn customers\", \"x\": 0.15, \"y\": 0.5}, {\"font\": {\"size\": 13}, \"showarrow\": false, \"text\": \"Non churn customers\", \"x\": 0.88, \"y\": 0.5}], \"paper_bgcolor\": \"rgb(243,243,243)\", \"plot_bgcolor\": \"rgb(243,243,243)\", \"title\": \"OnlineBackup distribution in customer attrition\"}, {\"showLink\": true, \"linkText\": \"Export to plot.ly\"})});</script><script type=\"text/javascript\">window.addEventListener(\"resize\", function(){window._Plotly.Plots.resize(document.getElementById(\"af4766d5-63df-468d-bb80-07ab0cef85d1\"));});</script>"
      ],
      "text/vnd.plotly.v1+html": [
       "<div id=\"af4766d5-63df-468d-bb80-07ab0cef85d1\" style=\"height: 525px; width: 100%;\" class=\"plotly-graph-div\"></div><script type=\"text/javascript\">require([\"plotly\"], function(Plotly) { window.PLOTLYENV=window.PLOTLYENV || {};window.PLOTLYENV.BASE_URL=\"https://plot.ly\";Plotly.newPlot(\"af4766d5-63df-468d-bb80-07ab0cef85d1\", [{\"domain\": {\"x\": [0, 0.48]}, \"hole\": 0.6, \"labels\": [\"No\", \"Yes\"], \"name\": \"Churn Customers\", \"values\": [1346, 523], \"type\": \"pie\", \"uid\": \"161f31fc-999f-4191-a6ea-8d26c77e22d8\"}, {\"domain\": {\"x\": [0.52, 1]}, \"hole\": 0.6, \"labels\": [\"No\", \"Yes\"], \"name\": \"Non churn customers\", \"values\": [3268, 1906], \"type\": \"pie\", \"uid\": \"cb8dffe5-a084-48e2-94fc-f3c576e5b58f\"}], {\"annotations\": [{\"font\": {\"size\": 13}, \"showarrow\": false, \"text\": \"churn customers\", \"x\": 0.15, \"y\": 0.5}, {\"font\": {\"size\": 13}, \"showarrow\": false, \"text\": \"Non churn customers\", \"x\": 0.88, \"y\": 0.5}], \"paper_bgcolor\": \"rgb(243,243,243)\", \"plot_bgcolor\": \"rgb(243,243,243)\", \"title\": \"OnlineBackup distribution in customer attrition\"}, {\"showLink\": true, \"linkText\": \"Export to plot.ly\"})});</script><script type=\"text/javascript\">window.addEventListener(\"resize\", function(){window._Plotly.Plots.resize(document.getElementById(\"af4766d5-63df-468d-bb80-07ab0cef85d1\"));});</script>"
      ]
     },
     "metadata": {},
     "output_type": "display_data"
    },
    {
     "data": {
      "application/vnd.plotly.v1+json": {
       "data": [
        {
         "domain": {
          "x": [
           0,
           0.48
          ]
         },
         "hole": 0.6,
         "labels": [
          "No",
          "Yes"
         ],
         "name": "Churn Customers",
         "type": "pie",
         "uid": "2c3da5c5-2677-40f3-aa1a-2df936279847",
         "values": [
          1324,
          545
         ]
        },
        {
         "domain": {
          "x": [
           0.52,
           1
          ]
         },
         "hole": 0.6,
         "labels": [
          "No",
          "Yes"
         ],
         "name": "Non churn customers",
         "type": "pie",
         "uid": "3560de3d-c44e-4664-8abf-b00ffb6e401e",
         "values": [
          3297,
          1877
         ]
        }
       ],
       "layout": {
        "annotations": [
         {
          "font": {
           "size": 13
          },
          "showarrow": false,
          "text": "churn customers",
          "x": 0.15,
          "y": 0.5
         },
         {
          "font": {
           "size": 13
          },
          "showarrow": false,
          "text": "Non churn customers",
          "x": 0.88,
          "y": 0.5
         }
        ],
        "paper_bgcolor": "rgb(243,243,243)",
        "plot_bgcolor": "rgb(243,243,243)",
        "title": "DeviceProtection distribution in customer attrition"
       }
      },
      "text/html": [
       "<div id=\"b7669c7f-c97f-444e-8e4d-c94af7cdd67a\" style=\"height: 525px; width: 100%;\" class=\"plotly-graph-div\"></div><script type=\"text/javascript\">require([\"plotly\"], function(Plotly) { window.PLOTLYENV=window.PLOTLYENV || {};window.PLOTLYENV.BASE_URL=\"https://plot.ly\";Plotly.newPlot(\"b7669c7f-c97f-444e-8e4d-c94af7cdd67a\", [{\"domain\": {\"x\": [0, 0.48]}, \"hole\": 0.6, \"labels\": [\"No\", \"Yes\"], \"name\": \"Churn Customers\", \"values\": [1324, 545], \"type\": \"pie\", \"uid\": \"2c3da5c5-2677-40f3-aa1a-2df936279847\"}, {\"domain\": {\"x\": [0.52, 1]}, \"hole\": 0.6, \"labels\": [\"No\", \"Yes\"], \"name\": \"Non churn customers\", \"values\": [3297, 1877], \"type\": \"pie\", \"uid\": \"3560de3d-c44e-4664-8abf-b00ffb6e401e\"}], {\"annotations\": [{\"font\": {\"size\": 13}, \"showarrow\": false, \"text\": \"churn customers\", \"x\": 0.15, \"y\": 0.5}, {\"font\": {\"size\": 13}, \"showarrow\": false, \"text\": \"Non churn customers\", \"x\": 0.88, \"y\": 0.5}], \"paper_bgcolor\": \"rgb(243,243,243)\", \"plot_bgcolor\": \"rgb(243,243,243)\", \"title\": \"DeviceProtection distribution in customer attrition\"}, {\"showLink\": true, \"linkText\": \"Export to plot.ly\"})});</script><script type=\"text/javascript\">window.addEventListener(\"resize\", function(){window._Plotly.Plots.resize(document.getElementById(\"b7669c7f-c97f-444e-8e4d-c94af7cdd67a\"));});</script>"
      ],
      "text/vnd.plotly.v1+html": [
       "<div id=\"b7669c7f-c97f-444e-8e4d-c94af7cdd67a\" style=\"height: 525px; width: 100%;\" class=\"plotly-graph-div\"></div><script type=\"text/javascript\">require([\"plotly\"], function(Plotly) { window.PLOTLYENV=window.PLOTLYENV || {};window.PLOTLYENV.BASE_URL=\"https://plot.ly\";Plotly.newPlot(\"b7669c7f-c97f-444e-8e4d-c94af7cdd67a\", [{\"domain\": {\"x\": [0, 0.48]}, \"hole\": 0.6, \"labels\": [\"No\", \"Yes\"], \"name\": \"Churn Customers\", \"values\": [1324, 545], \"type\": \"pie\", \"uid\": \"2c3da5c5-2677-40f3-aa1a-2df936279847\"}, {\"domain\": {\"x\": [0.52, 1]}, \"hole\": 0.6, \"labels\": [\"No\", \"Yes\"], \"name\": \"Non churn customers\", \"values\": [3297, 1877], \"type\": \"pie\", \"uid\": \"3560de3d-c44e-4664-8abf-b00ffb6e401e\"}], {\"annotations\": [{\"font\": {\"size\": 13}, \"showarrow\": false, \"text\": \"churn customers\", \"x\": 0.15, \"y\": 0.5}, {\"font\": {\"size\": 13}, \"showarrow\": false, \"text\": \"Non churn customers\", \"x\": 0.88, \"y\": 0.5}], \"paper_bgcolor\": \"rgb(243,243,243)\", \"plot_bgcolor\": \"rgb(243,243,243)\", \"title\": \"DeviceProtection distribution in customer attrition\"}, {\"showLink\": true, \"linkText\": \"Export to plot.ly\"})});</script><script type=\"text/javascript\">window.addEventListener(\"resize\", function(){window._Plotly.Plots.resize(document.getElementById(\"b7669c7f-c97f-444e-8e4d-c94af7cdd67a\"));});</script>"
      ]
     },
     "metadata": {},
     "output_type": "display_data"
    },
    {
     "data": {
      "application/vnd.plotly.v1+json": {
       "data": [
        {
         "domain": {
          "x": [
           0,
           0.48
          ]
         },
         "hole": 0.6,
         "labels": [
          "No",
          "Yes"
         ],
         "name": "Churn Customers",
         "type": "pie",
         "uid": "0de4d1ed-c38e-4a54-9b52-2a7f7c17849f",
         "values": [
          1559,
          310
         ]
        },
        {
         "domain": {
          "x": [
           0.52,
           1
          ]
         },
         "hole": 0.6,
         "labels": [
          "No",
          "Yes"
         ],
         "name": "Non churn customers",
         "type": "pie",
         "uid": "de7f0868-e5a3-4922-8b36-8d7dc8ddd24e",
         "values": [
          3440,
          1734
         ]
        }
       ],
       "layout": {
        "annotations": [
         {
          "font": {
           "size": 13
          },
          "showarrow": false,
          "text": "churn customers",
          "x": 0.15,
          "y": 0.5
         },
         {
          "font": {
           "size": 13
          },
          "showarrow": false,
          "text": "Non churn customers",
          "x": 0.88,
          "y": 0.5
         }
        ],
        "paper_bgcolor": "rgb(243,243,243)",
        "plot_bgcolor": "rgb(243,243,243)",
        "title": "TechSupport distribution in customer attrition"
       }
      },
      "text/html": [
       "<div id=\"9f78d582-e39d-452f-88be-bbcac273330d\" style=\"height: 525px; width: 100%;\" class=\"plotly-graph-div\"></div><script type=\"text/javascript\">require([\"plotly\"], function(Plotly) { window.PLOTLYENV=window.PLOTLYENV || {};window.PLOTLYENV.BASE_URL=\"https://plot.ly\";Plotly.newPlot(\"9f78d582-e39d-452f-88be-bbcac273330d\", [{\"domain\": {\"x\": [0, 0.48]}, \"hole\": 0.6, \"labels\": [\"No\", \"Yes\"], \"name\": \"Churn Customers\", \"values\": [1559, 310], \"type\": \"pie\", \"uid\": \"0de4d1ed-c38e-4a54-9b52-2a7f7c17849f\"}, {\"domain\": {\"x\": [0.52, 1]}, \"hole\": 0.6, \"labels\": [\"No\", \"Yes\"], \"name\": \"Non churn customers\", \"values\": [3440, 1734], \"type\": \"pie\", \"uid\": \"de7f0868-e5a3-4922-8b36-8d7dc8ddd24e\"}], {\"annotations\": [{\"font\": {\"size\": 13}, \"showarrow\": false, \"text\": \"churn customers\", \"x\": 0.15, \"y\": 0.5}, {\"font\": {\"size\": 13}, \"showarrow\": false, \"text\": \"Non churn customers\", \"x\": 0.88, \"y\": 0.5}], \"paper_bgcolor\": \"rgb(243,243,243)\", \"plot_bgcolor\": \"rgb(243,243,243)\", \"title\": \"TechSupport distribution in customer attrition\"}, {\"showLink\": true, \"linkText\": \"Export to plot.ly\"})});</script><script type=\"text/javascript\">window.addEventListener(\"resize\", function(){window._Plotly.Plots.resize(document.getElementById(\"9f78d582-e39d-452f-88be-bbcac273330d\"));});</script>"
      ],
      "text/vnd.plotly.v1+html": [
       "<div id=\"9f78d582-e39d-452f-88be-bbcac273330d\" style=\"height: 525px; width: 100%;\" class=\"plotly-graph-div\"></div><script type=\"text/javascript\">require([\"plotly\"], function(Plotly) { window.PLOTLYENV=window.PLOTLYENV || {};window.PLOTLYENV.BASE_URL=\"https://plot.ly\";Plotly.newPlot(\"9f78d582-e39d-452f-88be-bbcac273330d\", [{\"domain\": {\"x\": [0, 0.48]}, \"hole\": 0.6, \"labels\": [\"No\", \"Yes\"], \"name\": \"Churn Customers\", \"values\": [1559, 310], \"type\": \"pie\", \"uid\": \"0de4d1ed-c38e-4a54-9b52-2a7f7c17849f\"}, {\"domain\": {\"x\": [0.52, 1]}, \"hole\": 0.6, \"labels\": [\"No\", \"Yes\"], \"name\": \"Non churn customers\", \"values\": [3440, 1734], \"type\": \"pie\", \"uid\": \"de7f0868-e5a3-4922-8b36-8d7dc8ddd24e\"}], {\"annotations\": [{\"font\": {\"size\": 13}, \"showarrow\": false, \"text\": \"churn customers\", \"x\": 0.15, \"y\": 0.5}, {\"font\": {\"size\": 13}, \"showarrow\": false, \"text\": \"Non churn customers\", \"x\": 0.88, \"y\": 0.5}], \"paper_bgcolor\": \"rgb(243,243,243)\", \"plot_bgcolor\": \"rgb(243,243,243)\", \"title\": \"TechSupport distribution in customer attrition\"}, {\"showLink\": true, \"linkText\": \"Export to plot.ly\"})});</script><script type=\"text/javascript\">window.addEventListener(\"resize\", function(){window._Plotly.Plots.resize(document.getElementById(\"9f78d582-e39d-452f-88be-bbcac273330d\"));});</script>"
      ]
     },
     "metadata": {},
     "output_type": "display_data"
    },
    {
     "data": {
      "application/vnd.plotly.v1+json": {
       "data": [
        {
         "domain": {
          "x": [
           0,
           0.48
          ]
         },
         "hole": 0.6,
         "labels": [
          "No",
          "Yes"
         ],
         "name": "Churn Customers",
         "type": "pie",
         "uid": "0395ab20-0579-4dfd-8c28-d9643d4d35e8",
         "values": [
          1055,
          814
         ]
        },
        {
         "domain": {
          "x": [
           0.52,
           1
          ]
         },
         "hole": 0.6,
         "labels": [
          "No",
          "Yes"
         ],
         "name": "Non churn customers",
         "type": "pie",
         "uid": "66c90400-a819-49d5-bf85-2065ce844a79",
         "values": [
          3281,
          1893
         ]
        }
       ],
       "layout": {
        "annotations": [
         {
          "font": {
           "size": 13
          },
          "showarrow": false,
          "text": "churn customers",
          "x": 0.15,
          "y": 0.5
         },
         {
          "font": {
           "size": 13
          },
          "showarrow": false,
          "text": "Non churn customers",
          "x": 0.88,
          "y": 0.5
         }
        ],
        "paper_bgcolor": "rgb(243,243,243)",
        "plot_bgcolor": "rgb(243,243,243)",
        "title": "StreamingTV distribution in customer attrition"
       }
      },
      "text/html": [
       "<div id=\"d066e6f1-e859-4476-9fe1-ecad6af7a0a1\" style=\"height: 525px; width: 100%;\" class=\"plotly-graph-div\"></div><script type=\"text/javascript\">require([\"plotly\"], function(Plotly) { window.PLOTLYENV=window.PLOTLYENV || {};window.PLOTLYENV.BASE_URL=\"https://plot.ly\";Plotly.newPlot(\"d066e6f1-e859-4476-9fe1-ecad6af7a0a1\", [{\"domain\": {\"x\": [0, 0.48]}, \"hole\": 0.6, \"labels\": [\"No\", \"Yes\"], \"name\": \"Churn Customers\", \"values\": [1055, 814], \"type\": \"pie\", \"uid\": \"0395ab20-0579-4dfd-8c28-d9643d4d35e8\"}, {\"domain\": {\"x\": [0.52, 1]}, \"hole\": 0.6, \"labels\": [\"No\", \"Yes\"], \"name\": \"Non churn customers\", \"values\": [3281, 1893], \"type\": \"pie\", \"uid\": \"66c90400-a819-49d5-bf85-2065ce844a79\"}], {\"annotations\": [{\"font\": {\"size\": 13}, \"showarrow\": false, \"text\": \"churn customers\", \"x\": 0.15, \"y\": 0.5}, {\"font\": {\"size\": 13}, \"showarrow\": false, \"text\": \"Non churn customers\", \"x\": 0.88, \"y\": 0.5}], \"paper_bgcolor\": \"rgb(243,243,243)\", \"plot_bgcolor\": \"rgb(243,243,243)\", \"title\": \"StreamingTV distribution in customer attrition\"}, {\"showLink\": true, \"linkText\": \"Export to plot.ly\"})});</script><script type=\"text/javascript\">window.addEventListener(\"resize\", function(){window._Plotly.Plots.resize(document.getElementById(\"d066e6f1-e859-4476-9fe1-ecad6af7a0a1\"));});</script>"
      ],
      "text/vnd.plotly.v1+html": [
       "<div id=\"d066e6f1-e859-4476-9fe1-ecad6af7a0a1\" style=\"height: 525px; width: 100%;\" class=\"plotly-graph-div\"></div><script type=\"text/javascript\">require([\"plotly\"], function(Plotly) { window.PLOTLYENV=window.PLOTLYENV || {};window.PLOTLYENV.BASE_URL=\"https://plot.ly\";Plotly.newPlot(\"d066e6f1-e859-4476-9fe1-ecad6af7a0a1\", [{\"domain\": {\"x\": [0, 0.48]}, \"hole\": 0.6, \"labels\": [\"No\", \"Yes\"], \"name\": \"Churn Customers\", \"values\": [1055, 814], \"type\": \"pie\", \"uid\": \"0395ab20-0579-4dfd-8c28-d9643d4d35e8\"}, {\"domain\": {\"x\": [0.52, 1]}, \"hole\": 0.6, \"labels\": [\"No\", \"Yes\"], \"name\": \"Non churn customers\", \"values\": [3281, 1893], \"type\": \"pie\", \"uid\": \"66c90400-a819-49d5-bf85-2065ce844a79\"}], {\"annotations\": [{\"font\": {\"size\": 13}, \"showarrow\": false, \"text\": \"churn customers\", \"x\": 0.15, \"y\": 0.5}, {\"font\": {\"size\": 13}, \"showarrow\": false, \"text\": \"Non churn customers\", \"x\": 0.88, \"y\": 0.5}], \"paper_bgcolor\": \"rgb(243,243,243)\", \"plot_bgcolor\": \"rgb(243,243,243)\", \"title\": \"StreamingTV distribution in customer attrition\"}, {\"showLink\": true, \"linkText\": \"Export to plot.ly\"})});</script><script type=\"text/javascript\">window.addEventListener(\"resize\", function(){window._Plotly.Plots.resize(document.getElementById(\"d066e6f1-e859-4476-9fe1-ecad6af7a0a1\"));});</script>"
      ]
     },
     "metadata": {},
     "output_type": "display_data"
    },
    {
     "data": {
      "application/vnd.plotly.v1+json": {
       "data": [
        {
         "domain": {
          "x": [
           0,
           0.48
          ]
         },
         "hole": 0.6,
         "labels": [
          "No",
          "Yes"
         ],
         "name": "Churn Customers",
         "type": "pie",
         "uid": "cbdc069e-0e2d-4032-a52a-107016074be0",
         "values": [
          1051,
          818
         ]
        },
        {
         "domain": {
          "x": [
           0.52,
           1
          ]
         },
         "hole": 0.6,
         "labels": [
          "No",
          "Yes"
         ],
         "name": "Non churn customers",
         "type": "pie",
         "uid": "656fecf1-a89c-48fc-ae5d-027e826ce2cb",
         "values": [
          3260,
          1914
         ]
        }
       ],
       "layout": {
        "annotations": [
         {
          "font": {
           "size": 13
          },
          "showarrow": false,
          "text": "churn customers",
          "x": 0.15,
          "y": 0.5
         },
         {
          "font": {
           "size": 13
          },
          "showarrow": false,
          "text": "Non churn customers",
          "x": 0.88,
          "y": 0.5
         }
        ],
        "paper_bgcolor": "rgb(243,243,243)",
        "plot_bgcolor": "rgb(243,243,243)",
        "title": "StreamingMovies distribution in customer attrition"
       }
      },
      "text/html": [
       "<div id=\"b807d2bf-6816-4e19-9178-83c7465aaa6f\" style=\"height: 525px; width: 100%;\" class=\"plotly-graph-div\"></div><script type=\"text/javascript\">require([\"plotly\"], function(Plotly) { window.PLOTLYENV=window.PLOTLYENV || {};window.PLOTLYENV.BASE_URL=\"https://plot.ly\";Plotly.newPlot(\"b807d2bf-6816-4e19-9178-83c7465aaa6f\", [{\"domain\": {\"x\": [0, 0.48]}, \"hole\": 0.6, \"labels\": [\"No\", \"Yes\"], \"name\": \"Churn Customers\", \"values\": [1051, 818], \"type\": \"pie\", \"uid\": \"cbdc069e-0e2d-4032-a52a-107016074be0\"}, {\"domain\": {\"x\": [0.52, 1]}, \"hole\": 0.6, \"labels\": [\"No\", \"Yes\"], \"name\": \"Non churn customers\", \"values\": [3260, 1914], \"type\": \"pie\", \"uid\": \"656fecf1-a89c-48fc-ae5d-027e826ce2cb\"}], {\"annotations\": [{\"font\": {\"size\": 13}, \"showarrow\": false, \"text\": \"churn customers\", \"x\": 0.15, \"y\": 0.5}, {\"font\": {\"size\": 13}, \"showarrow\": false, \"text\": \"Non churn customers\", \"x\": 0.88, \"y\": 0.5}], \"paper_bgcolor\": \"rgb(243,243,243)\", \"plot_bgcolor\": \"rgb(243,243,243)\", \"title\": \"StreamingMovies distribution in customer attrition\"}, {\"showLink\": true, \"linkText\": \"Export to plot.ly\"})});</script><script type=\"text/javascript\">window.addEventListener(\"resize\", function(){window._Plotly.Plots.resize(document.getElementById(\"b807d2bf-6816-4e19-9178-83c7465aaa6f\"));});</script>"
      ],
      "text/vnd.plotly.v1+html": [
       "<div id=\"b807d2bf-6816-4e19-9178-83c7465aaa6f\" style=\"height: 525px; width: 100%;\" class=\"plotly-graph-div\"></div><script type=\"text/javascript\">require([\"plotly\"], function(Plotly) { window.PLOTLYENV=window.PLOTLYENV || {};window.PLOTLYENV.BASE_URL=\"https://plot.ly\";Plotly.newPlot(\"b807d2bf-6816-4e19-9178-83c7465aaa6f\", [{\"domain\": {\"x\": [0, 0.48]}, \"hole\": 0.6, \"labels\": [\"No\", \"Yes\"], \"name\": \"Churn Customers\", \"values\": [1051, 818], \"type\": \"pie\", \"uid\": \"cbdc069e-0e2d-4032-a52a-107016074be0\"}, {\"domain\": {\"x\": [0.52, 1]}, \"hole\": 0.6, \"labels\": [\"No\", \"Yes\"], \"name\": \"Non churn customers\", \"values\": [3260, 1914], \"type\": \"pie\", \"uid\": \"656fecf1-a89c-48fc-ae5d-027e826ce2cb\"}], {\"annotations\": [{\"font\": {\"size\": 13}, \"showarrow\": false, \"text\": \"churn customers\", \"x\": 0.15, \"y\": 0.5}, {\"font\": {\"size\": 13}, \"showarrow\": false, \"text\": \"Non churn customers\", \"x\": 0.88, \"y\": 0.5}], \"paper_bgcolor\": \"rgb(243,243,243)\", \"plot_bgcolor\": \"rgb(243,243,243)\", \"title\": \"StreamingMovies distribution in customer attrition\"}, {\"showLink\": true, \"linkText\": \"Export to plot.ly\"})});</script><script type=\"text/javascript\">window.addEventListener(\"resize\", function(){window._Plotly.Plots.resize(document.getElementById(\"b807d2bf-6816-4e19-9178-83c7465aaa6f\"));});</script>"
      ]
     },
     "metadata": {},
     "output_type": "display_data"
    },
    {
     "data": {
      "application/vnd.plotly.v1+json": {
       "data": [
        {
         "domain": {
          "x": [
           0,
           0.48
          ]
         },
         "hole": 0.6,
         "labels": [
          "Month-to-month",
          "One year",
          "Two year"
         ],
         "name": "Churn Customers",
         "type": "pie",
         "uid": "479e22c8-997f-4bdc-b357-053086264d8c",
         "values": [
          1655,
          166,
          48
         ]
        },
        {
         "domain": {
          "x": [
           0.52,
           1
          ]
         },
         "hole": 0.6,
         "labels": [
          "Month-to-month",
          "Two year",
          "One year"
         ],
         "name": "Non churn customers",
         "type": "pie",
         "uid": "643e2ea8-bde4-4dc6-a4cf-0033a585baa8",
         "values": [
          2220,
          1647,
          1307
         ]
        }
       ],
       "layout": {
        "annotations": [
         {
          "font": {
           "size": 13
          },
          "showarrow": false,
          "text": "churn customers",
          "x": 0.15,
          "y": 0.5
         },
         {
          "font": {
           "size": 13
          },
          "showarrow": false,
          "text": "Non churn customers",
          "x": 0.88,
          "y": 0.5
         }
        ],
        "paper_bgcolor": "rgb(243,243,243)",
        "plot_bgcolor": "rgb(243,243,243)",
        "title": "Contract distribution in customer attrition"
       }
      },
      "text/html": [
       "<div id=\"17ce2437-5291-41f0-acdf-065d44284b2e\" style=\"height: 525px; width: 100%;\" class=\"plotly-graph-div\"></div><script type=\"text/javascript\">require([\"plotly\"], function(Plotly) { window.PLOTLYENV=window.PLOTLYENV || {};window.PLOTLYENV.BASE_URL=\"https://plot.ly\";Plotly.newPlot(\"17ce2437-5291-41f0-acdf-065d44284b2e\", [{\"domain\": {\"x\": [0, 0.48]}, \"hole\": 0.6, \"labels\": [\"Month-to-month\", \"One year\", \"Two year\"], \"name\": \"Churn Customers\", \"values\": [1655, 166, 48], \"type\": \"pie\", \"uid\": \"479e22c8-997f-4bdc-b357-053086264d8c\"}, {\"domain\": {\"x\": [0.52, 1]}, \"hole\": 0.6, \"labels\": [\"Month-to-month\", \"Two year\", \"One year\"], \"name\": \"Non churn customers\", \"values\": [2220, 1647, 1307], \"type\": \"pie\", \"uid\": \"643e2ea8-bde4-4dc6-a4cf-0033a585baa8\"}], {\"annotations\": [{\"font\": {\"size\": 13}, \"showarrow\": false, \"text\": \"churn customers\", \"x\": 0.15, \"y\": 0.5}, {\"font\": {\"size\": 13}, \"showarrow\": false, \"text\": \"Non churn customers\", \"x\": 0.88, \"y\": 0.5}], \"paper_bgcolor\": \"rgb(243,243,243)\", \"plot_bgcolor\": \"rgb(243,243,243)\", \"title\": \"Contract distribution in customer attrition\"}, {\"showLink\": true, \"linkText\": \"Export to plot.ly\"})});</script><script type=\"text/javascript\">window.addEventListener(\"resize\", function(){window._Plotly.Plots.resize(document.getElementById(\"17ce2437-5291-41f0-acdf-065d44284b2e\"));});</script>"
      ],
      "text/vnd.plotly.v1+html": [
       "<div id=\"17ce2437-5291-41f0-acdf-065d44284b2e\" style=\"height: 525px; width: 100%;\" class=\"plotly-graph-div\"></div><script type=\"text/javascript\">require([\"plotly\"], function(Plotly) { window.PLOTLYENV=window.PLOTLYENV || {};window.PLOTLYENV.BASE_URL=\"https://plot.ly\";Plotly.newPlot(\"17ce2437-5291-41f0-acdf-065d44284b2e\", [{\"domain\": {\"x\": [0, 0.48]}, \"hole\": 0.6, \"labels\": [\"Month-to-month\", \"One year\", \"Two year\"], \"name\": \"Churn Customers\", \"values\": [1655, 166, 48], \"type\": \"pie\", \"uid\": \"479e22c8-997f-4bdc-b357-053086264d8c\"}, {\"domain\": {\"x\": [0.52, 1]}, \"hole\": 0.6, \"labels\": [\"Month-to-month\", \"Two year\", \"One year\"], \"name\": \"Non churn customers\", \"values\": [2220, 1647, 1307], \"type\": \"pie\", \"uid\": \"643e2ea8-bde4-4dc6-a4cf-0033a585baa8\"}], {\"annotations\": [{\"font\": {\"size\": 13}, \"showarrow\": false, \"text\": \"churn customers\", \"x\": 0.15, \"y\": 0.5}, {\"font\": {\"size\": 13}, \"showarrow\": false, \"text\": \"Non churn customers\", \"x\": 0.88, \"y\": 0.5}], \"paper_bgcolor\": \"rgb(243,243,243)\", \"plot_bgcolor\": \"rgb(243,243,243)\", \"title\": \"Contract distribution in customer attrition\"}, {\"showLink\": true, \"linkText\": \"Export to plot.ly\"})});</script><script type=\"text/javascript\">window.addEventListener(\"resize\", function(){window._Plotly.Plots.resize(document.getElementById(\"17ce2437-5291-41f0-acdf-065d44284b2e\"));});</script>"
      ]
     },
     "metadata": {},
     "output_type": "display_data"
    },
    {
     "data": {
      "application/vnd.plotly.v1+json": {
       "data": [
        {
         "domain": {
          "x": [
           0,
           0.48
          ]
         },
         "hole": 0.6,
         "labels": [
          "Yes",
          "No"
         ],
         "name": "Churn Customers",
         "type": "pie",
         "uid": "b70aac1f-50cd-4c4e-b2f1-f3a0a1c0f3f8",
         "values": [
          1400,
          469
         ]
        },
        {
         "domain": {
          "x": [
           0.52,
           1
          ]
         },
         "hole": 0.6,
         "labels": [
          "Yes",
          "No"
         ],
         "name": "Non churn customers",
         "type": "pie",
         "uid": "af25089f-decb-4f62-b6a1-857299eb22a2",
         "values": [
          2771,
          2403
         ]
        }
       ],
       "layout": {
        "annotations": [
         {
          "font": {
           "size": 13
          },
          "showarrow": false,
          "text": "churn customers",
          "x": 0.15,
          "y": 0.5
         },
         {
          "font": {
           "size": 13
          },
          "showarrow": false,
          "text": "Non churn customers",
          "x": 0.88,
          "y": 0.5
         }
        ],
        "paper_bgcolor": "rgb(243,243,243)",
        "plot_bgcolor": "rgb(243,243,243)",
        "title": "PaperlessBilling distribution in customer attrition"
       }
      },
      "text/html": [
       "<div id=\"a2777aec-d643-440d-a924-ebc2460d5052\" style=\"height: 525px; width: 100%;\" class=\"plotly-graph-div\"></div><script type=\"text/javascript\">require([\"plotly\"], function(Plotly) { window.PLOTLYENV=window.PLOTLYENV || {};window.PLOTLYENV.BASE_URL=\"https://plot.ly\";Plotly.newPlot(\"a2777aec-d643-440d-a924-ebc2460d5052\", [{\"domain\": {\"x\": [0, 0.48]}, \"hole\": 0.6, \"labels\": [\"Yes\", \"No\"], \"name\": \"Churn Customers\", \"values\": [1400, 469], \"type\": \"pie\", \"uid\": \"b70aac1f-50cd-4c4e-b2f1-f3a0a1c0f3f8\"}, {\"domain\": {\"x\": [0.52, 1]}, \"hole\": 0.6, \"labels\": [\"Yes\", \"No\"], \"name\": \"Non churn customers\", \"values\": [2771, 2403], \"type\": \"pie\", \"uid\": \"af25089f-decb-4f62-b6a1-857299eb22a2\"}], {\"annotations\": [{\"font\": {\"size\": 13}, \"showarrow\": false, \"text\": \"churn customers\", \"x\": 0.15, \"y\": 0.5}, {\"font\": {\"size\": 13}, \"showarrow\": false, \"text\": \"Non churn customers\", \"x\": 0.88, \"y\": 0.5}], \"paper_bgcolor\": \"rgb(243,243,243)\", \"plot_bgcolor\": \"rgb(243,243,243)\", \"title\": \"PaperlessBilling distribution in customer attrition\"}, {\"showLink\": true, \"linkText\": \"Export to plot.ly\"})});</script><script type=\"text/javascript\">window.addEventListener(\"resize\", function(){window._Plotly.Plots.resize(document.getElementById(\"a2777aec-d643-440d-a924-ebc2460d5052\"));});</script>"
      ],
      "text/vnd.plotly.v1+html": [
       "<div id=\"a2777aec-d643-440d-a924-ebc2460d5052\" style=\"height: 525px; width: 100%;\" class=\"plotly-graph-div\"></div><script type=\"text/javascript\">require([\"plotly\"], function(Plotly) { window.PLOTLYENV=window.PLOTLYENV || {};window.PLOTLYENV.BASE_URL=\"https://plot.ly\";Plotly.newPlot(\"a2777aec-d643-440d-a924-ebc2460d5052\", [{\"domain\": {\"x\": [0, 0.48]}, \"hole\": 0.6, \"labels\": [\"Yes\", \"No\"], \"name\": \"Churn Customers\", \"values\": [1400, 469], \"type\": \"pie\", \"uid\": \"b70aac1f-50cd-4c4e-b2f1-f3a0a1c0f3f8\"}, {\"domain\": {\"x\": [0.52, 1]}, \"hole\": 0.6, \"labels\": [\"Yes\", \"No\"], \"name\": \"Non churn customers\", \"values\": [2771, 2403], \"type\": \"pie\", \"uid\": \"af25089f-decb-4f62-b6a1-857299eb22a2\"}], {\"annotations\": [{\"font\": {\"size\": 13}, \"showarrow\": false, \"text\": \"churn customers\", \"x\": 0.15, \"y\": 0.5}, {\"font\": {\"size\": 13}, \"showarrow\": false, \"text\": \"Non churn customers\", \"x\": 0.88, \"y\": 0.5}], \"paper_bgcolor\": \"rgb(243,243,243)\", \"plot_bgcolor\": \"rgb(243,243,243)\", \"title\": \"PaperlessBilling distribution in customer attrition\"}, {\"showLink\": true, \"linkText\": \"Export to plot.ly\"})});</script><script type=\"text/javascript\">window.addEventListener(\"resize\", function(){window._Plotly.Plots.resize(document.getElementById(\"a2777aec-d643-440d-a924-ebc2460d5052\"));});</script>"
      ]
     },
     "metadata": {},
     "output_type": "display_data"
    },
    {
     "data": {
      "application/vnd.plotly.v1+json": {
       "data": [
        {
         "domain": {
          "x": [
           0,
           0.48
          ]
         },
         "hole": 0.6,
         "labels": [
          "Electronic check",
          "Mailed check",
          "Bank transfer (automatic)",
          "Credit card (automatic)"
         ],
         "name": "Churn Customers",
         "type": "pie",
         "uid": "693ce8ab-bed5-4248-a436-c0d01de210e6",
         "values": [
          1071,
          308,
          258,
          232
         ]
        },
        {
         "domain": {
          "x": [
           0.52,
           1
          ]
         },
         "hole": 0.6,
         "labels": [
          "Mailed check",
          "Electronic check",
          "Credit card (automatic)",
          "Bank transfer (automatic)"
         ],
         "name": "Non churn customers",
         "type": "pie",
         "uid": "2d8767cb-f86a-49b2-8a4c-3cd16a462f74",
         "values": [
          1304,
          1294,
          1290,
          1286
         ]
        }
       ],
       "layout": {
        "annotations": [
         {
          "font": {
           "size": 13
          },
          "showarrow": false,
          "text": "churn customers",
          "x": 0.15,
          "y": 0.5
         },
         {
          "font": {
           "size": 13
          },
          "showarrow": false,
          "text": "Non churn customers",
          "x": 0.88,
          "y": 0.5
         }
        ],
        "paper_bgcolor": "rgb(243,243,243)",
        "plot_bgcolor": "rgb(243,243,243)",
        "title": "PaymentMethod distribution in customer attrition"
       }
      },
      "text/html": [
       "<div id=\"c0a6d308-ab6f-46d3-a945-beed2667bc4a\" style=\"height: 525px; width: 100%;\" class=\"plotly-graph-div\"></div><script type=\"text/javascript\">require([\"plotly\"], function(Plotly) { window.PLOTLYENV=window.PLOTLYENV || {};window.PLOTLYENV.BASE_URL=\"https://plot.ly\";Plotly.newPlot(\"c0a6d308-ab6f-46d3-a945-beed2667bc4a\", [{\"domain\": {\"x\": [0, 0.48]}, \"hole\": 0.6, \"labels\": [\"Electronic check\", \"Mailed check\", \"Bank transfer (automatic)\", \"Credit card (automatic)\"], \"name\": \"Churn Customers\", \"values\": [1071, 308, 258, 232], \"type\": \"pie\", \"uid\": \"693ce8ab-bed5-4248-a436-c0d01de210e6\"}, {\"domain\": {\"x\": [0.52, 1]}, \"hole\": 0.6, \"labels\": [\"Mailed check\", \"Electronic check\", \"Credit card (automatic)\", \"Bank transfer (automatic)\"], \"name\": \"Non churn customers\", \"values\": [1304, 1294, 1290, 1286], \"type\": \"pie\", \"uid\": \"2d8767cb-f86a-49b2-8a4c-3cd16a462f74\"}], {\"annotations\": [{\"font\": {\"size\": 13}, \"showarrow\": false, \"text\": \"churn customers\", \"x\": 0.15, \"y\": 0.5}, {\"font\": {\"size\": 13}, \"showarrow\": false, \"text\": \"Non churn customers\", \"x\": 0.88, \"y\": 0.5}], \"paper_bgcolor\": \"rgb(243,243,243)\", \"plot_bgcolor\": \"rgb(243,243,243)\", \"title\": \"PaymentMethod distribution in customer attrition\"}, {\"showLink\": true, \"linkText\": \"Export to plot.ly\"})});</script><script type=\"text/javascript\">window.addEventListener(\"resize\", function(){window._Plotly.Plots.resize(document.getElementById(\"c0a6d308-ab6f-46d3-a945-beed2667bc4a\"));});</script>"
      ],
      "text/vnd.plotly.v1+html": [
       "<div id=\"c0a6d308-ab6f-46d3-a945-beed2667bc4a\" style=\"height: 525px; width: 100%;\" class=\"plotly-graph-div\"></div><script type=\"text/javascript\">require([\"plotly\"], function(Plotly) { window.PLOTLYENV=window.PLOTLYENV || {};window.PLOTLYENV.BASE_URL=\"https://plot.ly\";Plotly.newPlot(\"c0a6d308-ab6f-46d3-a945-beed2667bc4a\", [{\"domain\": {\"x\": [0, 0.48]}, \"hole\": 0.6, \"labels\": [\"Electronic check\", \"Mailed check\", \"Bank transfer (automatic)\", \"Credit card (automatic)\"], \"name\": \"Churn Customers\", \"values\": [1071, 308, 258, 232], \"type\": \"pie\", \"uid\": \"693ce8ab-bed5-4248-a436-c0d01de210e6\"}, {\"domain\": {\"x\": [0.52, 1]}, \"hole\": 0.6, \"labels\": [\"Mailed check\", \"Electronic check\", \"Credit card (automatic)\", \"Bank transfer (automatic)\"], \"name\": \"Non churn customers\", \"values\": [1304, 1294, 1290, 1286], \"type\": \"pie\", \"uid\": \"2d8767cb-f86a-49b2-8a4c-3cd16a462f74\"}], {\"annotations\": [{\"font\": {\"size\": 13}, \"showarrow\": false, \"text\": \"churn customers\", \"x\": 0.15, \"y\": 0.5}, {\"font\": {\"size\": 13}, \"showarrow\": false, \"text\": \"Non churn customers\", \"x\": 0.88, \"y\": 0.5}], \"paper_bgcolor\": \"rgb(243,243,243)\", \"plot_bgcolor\": \"rgb(243,243,243)\", \"title\": \"PaymentMethod distribution in customer attrition\"}, {\"showLink\": true, \"linkText\": \"Export to plot.ly\"})});</script><script type=\"text/javascript\">window.addEventListener(\"resize\", function(){window._Plotly.Plots.resize(document.getElementById(\"c0a6d308-ab6f-46d3-a945-beed2667bc4a\"));});</script>"
      ]
     },
     "metadata": {},
     "output_type": "display_data"
    }
   ],
   "source": [
    "def a_pie(column):\n",
    "    \n",
    "    trace1 = go.Pie(values = churn[column].value_counts().values.tolist(),\n",
    "                    labels = churn[column].value_counts().keys().tolist(),\n",
    "                    domain = dict(x = [0, .48]),\n",
    "                    name = 'Churn Customers',\n",
    "                    hole= .6)\n",
    "    trace2= go.Pie(values = not_churn[column].value_counts().values.tolist(),\n",
    "                   labels = not_churn[column].value_counts().keys().tolist(),\n",
    "                   domain = dict(x = [.52, 1]),\n",
    "                   hole = .6,\n",
    "                    name = 'Non churn customers')\n",
    "    layout = go.Layout(dict(title = column+\" distribution in customer attrition\",\n",
    "                           plot_bgcolor = 'rgb(243,243,243)',\n",
    "                           paper_bgcolor = \"rgb(243,243,243)\",\n",
    "                           annotations = [dict(text = \"churn customers\",\n",
    "                                                font = dict(size = 13),\n",
    "                                                showarrow = False,\n",
    "                                                x = .15, y = .5),\n",
    "                                           dict(text = \"Non churn customers\",\n",
    "                                                font = dict(size = 13),\n",
    "                                                showarrow = False,\n",
    "                                                x = .88,y = .5\n",
    "                                               )\n",
    "                                          ]\n",
    "                           )\n",
    "                      )\n",
    "    data = [trace1, trace2]\n",
    "    fig = go.Figure(data=data, layout=layout)\n",
    "    py.iplot(fig)\n",
    "    \n",
    "for i in cat_cols:\n",
    "    a_pie(i)"
   ]
  },
  {
   "cell_type": "code",
   "execution_count": null,
   "metadata": {},
   "outputs": [],
   "source": []
  }
 ],
 "metadata": {
  "kernelspec": {
   "display_name": "Python 3",
   "language": "python",
   "name": "python3"
  },
  "language_info": {
   "codemirror_mode": {
    "name": "ipython",
    "version": 3
   },
   "file_extension": ".py",
   "mimetype": "text/x-python",
   "name": "python",
   "nbconvert_exporter": "python",
   "pygments_lexer": "ipython3",
   "version": "3.6.5"
  }
 },
 "nbformat": 4,
 "nbformat_minor": 2
}
